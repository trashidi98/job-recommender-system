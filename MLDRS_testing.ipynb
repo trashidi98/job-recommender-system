{
 "cells": [
  {
   "cell_type": "code",
   "execution_count": 1,
   "metadata": {},
   "outputs": [
    {
     "name": "stderr",
     "output_type": "stream",
     "text": [
      "[nltk_data] Downloading package stopwords to\n",
      "[nltk_data]     C:\\Users\\zesha\\AppData\\Roaming\\nltk_data...\n",
      "[nltk_data]   Package stopwords is already up-to-date!\n",
      "[nltk_data] Downloading package wordnet to\n",
      "[nltk_data]     C:\\Users\\zesha\\AppData\\Roaming\\nltk_data...\n",
      "[nltk_data]   Package wordnet is already up-to-date!\n",
      "[nltk_data] Downloading package punkt to\n",
      "[nltk_data]     C:\\Users\\zesha\\AppData\\Roaming\\nltk_data...\n",
      "[nltk_data]   Package punkt is already up-to-date!\n",
      "[nltk_data] Downloading package stopwords to\n",
      "[nltk_data]     C:\\Users\\zesha\\AppData\\Roaming\\nltk_data...\n",
      "[nltk_data]   Package stopwords is already up-to-date!\n",
      "[nltk_data] Downloading package wordnet to\n",
      "[nltk_data]     C:\\Users\\zesha\\AppData\\Roaming\\nltk_data...\n",
      "[nltk_data]   Package wordnet is already up-to-date!\n",
      "[nltk_data] Downloading package punkt to\n",
      "[nltk_data]     C:\\Users\\zesha\\AppData\\Roaming\\nltk_data...\n",
      "[nltk_data]   Package punkt is already up-to-date!\n",
      "[nltk_data] Downloading package stopwords to\n",
      "[nltk_data]     C:\\Users\\zesha\\AppData\\Roaming\\nltk_data...\n",
      "[nltk_data]   Package stopwords is already up-to-date!\n",
      "[nltk_data] Downloading package wordnet to\n",
      "[nltk_data]     C:\\Users\\zesha\\AppData\\Roaming\\nltk_data...\n",
      "[nltk_data]   Package wordnet is already up-to-date!\n",
      "[nltk_data] Downloading package punkt to\n",
      "[nltk_data]     C:\\Users\\zesha\\AppData\\Roaming\\nltk_data...\n",
      "[nltk_data]   Package punkt is already up-to-date!\n"
     ]
    }
   ],
   "source": [
    "from multiprocessing import freeze_support\n",
    "import pandas as pd\n",
    "import string\n",
    "import nltk\n",
    "import re\n",
    "import matplotlib.pyplot as plt\n",
    "import gensim.corpora as corpora\n",
    "import gensim\n",
    "from nltk.corpus import stopwords\n",
    "from nltk.stem import WordNetLemmatizer\n",
    "import numpy as np\n",
    "import numpy as np\n",
    "from gensim.models import Phrases, CoherenceModel\n",
    "from nltk.tokenize import word_tokenize\n",
    "from gensim.test.utils import datapath\n",
    "from sklearn.cluster import MiniBatchKMeans, KMeans\n",
    "from sklearn.decomposition import PCA\n",
    "from sklearn.feature_extraction.text import TfidfVectorizer\n",
    "import matplotlib.cm as cm\n",
    "from sklearn.manifold import TSNE\n",
    "from gensim.corpora import Dictionary\n",
    "import pickle\n",
    "from gensim.test.utils import datapath\n",
    "\n",
    "from ipynb.fs.full.MLDRS_preprocessing import remove_punc, tokenization, remove_stopwords, lemmization, cleanResume, preprocessing, TokenizeLemm\n",
    "from ipynb.fs.full.MLDRS_tools import createList, similarity, find_optimal_clusters, plot_tsne_pca\n",
    "\n",
    "\n",
    "nltk.download('stopwords')\n",
    "stopwords = nltk.corpus.stopwords.words('english')\n",
    "nltk.download('wordnet')\n",
    "nltk.download('punkt')\n",
    "\n",
    "wordnet_lemmatizer = WordNetLemmatizer()\n",
    "wpt = nltk.WordPunctTokenizer()\n",
    "lemmatizer = nltk.WordNetLemmatizer()"
   ]
  },
  {
   "cell_type": "code",
   "execution_count": 2,
   "metadata": {},
   "outputs": [],
   "source": [
    "def Sort_Tuple(tup):   \n",
    "    # key is set to sort using second element of \n",
    "    # sublist lambda has been used \n",
    "    tup.sort(key = lambda x: x[1], reverse = True) \n",
    "    return tup "
   ]
  },
  {
   "cell_type": "code",
   "execution_count": 3,
   "metadata": {},
   "outputs": [
    {
     "name": "stdout",
     "output_type": "stream",
     "text": [
      "Number of resumes: 29783\n"
     ]
    }
   ],
   "source": [
    "resumes = pd.read_csv(r\"C://Users//zesha//Downloads//all_resumes.csv\")\n",
    "print(\"Number of resumes: \" + str(resumes.shape[0]))"
   ]
  },
  {
   "cell_type": "code",
   "execution_count": 4,
   "metadata": {},
   "outputs": [],
   "source": [
    "with open('C://Users//zesha//Desktop//model', 'rb') as f:\n",
    "     lda_model = pickle.load(f)\n",
    "        \n",
    "with open('C://Users//zesha//Desktop//jobs', 'rb') as f:\n",
    "     jobs = pickle.load(f)"
   ]
  },
  {
   "cell_type": "code",
   "execution_count": 5,
   "metadata": {},
   "outputs": [],
   "source": [
    "resumes = resumes.drop(columns=['Unnamed: 0'])\n",
    "resumes.head()\n",
    "resume = resumes.iloc[0]['resumes']"
   ]
  },
  {
   "cell_type": "code",
   "execution_count": 6,
   "metadata": {},
   "outputs": [],
   "source": [
    "resume1 = remove_punc(resume)\n",
    "resume1 = tokenization(resume1)\n",
    "resume1 = remove_stopwords(resume1)\n",
    "resume1 = lemmization(resume1)"
   ]
  },
  {
   "cell_type": "code",
   "execution_count": 7,
   "metadata": {},
   "outputs": [],
   "source": [
    "dct = Dictionary([resume1])\n",
    "resume_updated = dct.doc2bow(resume1)"
   ]
  },
  {
   "cell_type": "code",
   "execution_count": 8,
   "metadata": {},
   "outputs": [],
   "source": [
    "resume_topics = lda_model[resume_updated]"
   ]
  },
  {
   "cell_type": "code",
   "execution_count": 9,
   "metadata": {},
   "outputs": [
    {
     "name": "stdout",
     "output_type": "stream",
     "text": [
      "[(11, 0.51847017), (7, 0.17254974), (6, 0.11415095), (9, 0.10110185), (5, 0.04490433), (1, 0.038097467)]\n"
     ]
    }
   ],
   "source": [
    "resume_topics = (Sort_Tuple(resume_topics[0])) \n",
    "print(resume_topics)"
   ]
  },
  {
   "cell_type": "code",
   "execution_count": 10,
   "metadata": {},
   "outputs": [],
   "source": [
    "# jobs\n",
    "city, citycount = np.unique(list(jobs.loc[:, \"inferred_city\"]), return_counts = True)\n",
    "state, statecount  = np.unique(list(jobs.loc[:, \"inferred_state\"]), return_counts = True)\n",
    "country, countrycount = np.unique(list(jobs.loc[:, \"inferred_country\"]), return_counts = True)\n",
    "\n",
    "cities_dict = dict(zip(city, citycount))"
   ]
  },
  {
   "cell_type": "code",
   "execution_count": 11,
   "metadata": {},
   "outputs": [
    {
     "name": "stdout",
     "output_type": "stream",
     "text": [
      "Enter your city: aberdeen\n"
     ]
    }
   ],
   "source": [
    "city_entered = input(\"Enter your city: \")\n",
    "for key,val in cities_dict.items():\n",
    "    if key.lower() == city_entered.lower():\n",
    "        new_corpus  = jobs[jobs[\"inferred_city\"] == key]\n",
    "\n",
    "\n",
    "if new_corpus.shape[0] < 5:\n",
    "    print(\"Not enough data for this location.\")"
   ]
  },
  {
   "cell_type": "code",
   "execution_count": 12,
   "metadata": {},
   "outputs": [
    {
     "data": {
      "text/plain": [
       "30"
      ]
     },
     "execution_count": 12,
     "metadata": {},
     "output_type": "execute_result"
    }
   ],
   "source": [
    "len(new_corpus)"
   ]
  },
  {
   "cell_type": "code",
   "execution_count": 13,
   "metadata": {},
   "outputs": [
    {
     "name": "stderr",
     "output_type": "stream",
     "text": [
      "C:\\Users\\zesha\\Anaconda3\\lib\\site-packages\\pandas\\core\\series.py:1056: SettingWithCopyWarning: \n",
      "A value is trying to be set on a copy of a slice from a DataFrame\n",
      "\n",
      "See the caveats in the documentation: https://pandas.pydata.org/pandas-docs/stable/user_guide/indexing.html#returning-a-view-versus-a-copy\n",
      "  cacher_needs_updating = self._check_is_chained_assignment_possible()\n"
     ]
    }
   ],
   "source": [
    "for i in range (len(new_corpus)):\n",
    "    new_corpus.iloc[i]['Topics'] = Sort_Tuple(new_corpus.iloc[i]['Topics'])"
   ]
  },
  {
   "cell_type": "code",
   "execution_count": 14,
   "metadata": {},
   "outputs": [
    {
     "name": "stderr",
     "output_type": "stream",
     "text": [
      "C:\\Users\\zesha\\Anaconda3\\lib\\site-packages\\ipykernel_launcher.py:14: SettingWithCopyWarning: \n",
      "A value is trying to be set on a copy of a slice from a DataFrame.\n",
      "Try using .loc[row_indexer,col_indexer] = value instead\n",
      "\n",
      "See the caveats in the documentation: https://pandas.pydata.org/pandas-docs/stable/user_guide/indexing.html#returning-a-view-versus-a-copy\n",
      "  \n"
     ]
    }
   ],
   "source": [
    "similarity_list = []\n",
    "\n",
    "for i in range (len(new_corpus)):\n",
    "    resume_temp = []\n",
    "    job_temp = []\n",
    "    for key, value in resume_topics:\n",
    "        resume_temp.append(key)\n",
    "    for key, value in new_corpus.iloc[i]['Topics']:\n",
    "        job_temp.append(key)\n",
    "        \n",
    "    similarity_val = similarity(resume_temp, job_temp)\n",
    "    similarity_list.append((similarity_val))\n",
    "    \n",
    "new_corpus['Similarity'] = similarity_list"
   ]
  },
  {
   "cell_type": "code",
   "execution_count": 15,
   "metadata": {},
   "outputs": [
    {
     "data": {
      "text/plain": [
       "[6, 24, 14, 0, 11]"
      ]
     },
     "execution_count": 15,
     "metadata": {},
     "output_type": "execute_result"
    }
   ],
   "source": [
    "topNindexes = sorted(range(len(similarity_list)), key=lambda i: similarity_list[i], reverse=True)[:5]\n",
    "topNindexes"
   ]
  },
  {
   "cell_type": "code",
   "execution_count": 16,
   "metadata": {},
   "outputs": [],
   "source": [
    "top_5_idx = np.argsort(similarity_list)[-5:]\n",
    "top_5_values = [similarity_list[i] for i in top_5_idx]"
   ]
  },
  {
   "cell_type": "code",
   "execution_count": 20,
   "metadata": {},
   "outputs": [
    {
     "data": {
      "text/plain": [
       "array([12,  0, 14, 24,  6], dtype=int64)"
      ]
     },
     "execution_count": 20,
     "metadata": {},
     "output_type": "execute_result"
    }
   ],
   "source": [
    "top_5_idx"
   ]
  },
  {
   "cell_type": "code",
   "execution_count": 17,
   "metadata": {},
   "outputs": [
    {
     "data": {
      "text/plain": [
       "[37.0, 39.0, 42.0, 44.0, 69.0]"
      ]
     },
     "execution_count": 17,
     "metadata": {},
     "output_type": "execute_result"
    }
   ],
   "source": [
    "top_5_values"
   ]
  },
  {
   "cell_type": "code",
   "execution_count": 18,
   "metadata": {},
   "outputs": [
    {
     "data": {
      "text/plain": [
       "Int64Index([2039, 14518, 7987, 37, 7616], dtype='int64')"
      ]
     },
     "execution_count": 18,
     "metadata": {},
     "output_type": "execute_result"
    }
   ],
   "source": [
    "new_corpus_vals = new_corpus.index[topNindexes]\n",
    "new_corpus_vals"
   ]
  },
  {
   "cell_type": "code",
   "execution_count": 19,
   "metadata": {},
   "outputs": [
    {
     "data": {
      "text/html": [
       "<div>\n",
       "<style scoped>\n",
       "    .dataframe tbody tr th:only-of-type {\n",
       "        vertical-align: middle;\n",
       "    }\n",
       "\n",
       "    .dataframe tbody tr th {\n",
       "        vertical-align: top;\n",
       "    }\n",
       "\n",
       "    .dataframe thead th {\n",
       "        text-align: right;\n",
       "    }\n",
       "</style>\n",
       "<table border=\"1\" class=\"dataframe\">\n",
       "  <thead>\n",
       "    <tr style=\"text-align: right;\">\n",
       "      <th></th>\n",
       "      <th>Unnamed: 0</th>\n",
       "      <th>job_title</th>\n",
       "      <th>category</th>\n",
       "      <th>company_name</th>\n",
       "      <th>inferred_city</th>\n",
       "      <th>inferred_state</th>\n",
       "      <th>inferred_country</th>\n",
       "      <th>job_description</th>\n",
       "      <th>job_type</th>\n",
       "      <th>Topics</th>\n",
       "      <th>Similarity</th>\n",
       "    </tr>\n",
       "  </thead>\n",
       "  <tbody>\n",
       "    <tr>\n",
       "      <th>2039</th>\n",
       "      <td>2039</td>\n",
       "      <td>Software Developer</td>\n",
       "      <td>architecture and engineering</td>\n",
       "      <td>Data Systems Analysts, Inc</td>\n",
       "      <td>Aberdeen</td>\n",
       "      <td>Maryland</td>\n",
       "      <td>Usa</td>\n",
       "      <td>Data Systems Analysts, Inc. is searching for a...</td>\n",
       "      <td>Full Time</td>\n",
       "      <td>[(11, 0.34015608), (4, 0.1403401), (3, 0.11725...</td>\n",
       "      <td>69.0</td>\n",
       "    </tr>\n",
       "    <tr>\n",
       "      <th>14518</th>\n",
       "      <td>4525</td>\n",
       "      <td>Safety Data Scientist</td>\n",
       "      <td>Manufacturing-or-mechanical</td>\n",
       "      <td>AASKI Technology</td>\n",
       "      <td>Aberdeen</td>\n",
       "      <td>Maryland</td>\n",
       "      <td>United states</td>\n",
       "      <td>Overview\\n\\nAASKI Technology is a dynamic gove...</td>\n",
       "      <td>Undefined</td>\n",
       "      <td>[(10, 0.28475037), (4, 0.24056295), (5, 0.1893...</td>\n",
       "      <td>44.0</td>\n",
       "    </tr>\n",
       "    <tr>\n",
       "      <th>7987</th>\n",
       "      <td>7987</td>\n",
       "      <td>Junior Software Developer</td>\n",
       "      <td>computer jobs</td>\n",
       "      <td>Applied Research Associates, Inc</td>\n",
       "      <td>Aberdeen</td>\n",
       "      <td>Maryland</td>\n",
       "      <td>United states</td>\n",
       "      <td>Looking for a great company where you can be a...</td>\n",
       "      <td>Undefined</td>\n",
       "      <td>[(4, 0.30075344), (5, 0.24569768), (0, 0.18960...</td>\n",
       "      <td>42.0</td>\n",
       "    </tr>\n",
       "    <tr>\n",
       "      <th>37</th>\n",
       "      <td>37</td>\n",
       "      <td>Remote Software Developer</td>\n",
       "      <td>NaN</td>\n",
       "      <td>Capital Markets Placement</td>\n",
       "      <td>Aberdeen</td>\n",
       "      <td>Maryland</td>\n",
       "      <td>Usa</td>\n",
       "      <td>Precision is king when it comes to the work yo...</td>\n",
       "      <td>Full Time</td>\n",
       "      <td>[(4, 0.42233145), (11, 0.28008574), (1, 0.0879...</td>\n",
       "      <td>39.0</td>\n",
       "    </tr>\n",
       "    <tr>\n",
       "      <th>7616</th>\n",
       "      <td>7616</td>\n",
       "      <td>Software Developer Int.</td>\n",
       "      <td>Computer-or-internet</td>\n",
       "      <td>Jacobs</td>\n",
       "      <td>Aberdeen</td>\n",
       "      <td>Maryland</td>\n",
       "      <td>United states</td>\n",
       "      <td>Overview:\\n\\nJacobs is one of the world's larg...</td>\n",
       "      <td>Undefined</td>\n",
       "      <td>[(4, 0.4667218), (5, 0.3752453), (11, 0.097968...</td>\n",
       "      <td>37.0</td>\n",
       "    </tr>\n",
       "  </tbody>\n",
       "</table>\n",
       "</div>"
      ],
      "text/plain": [
       "       Unnamed: 0                  job_title                      category  \\\n",
       "2039         2039         Software Developer  architecture and engineering   \n",
       "14518        4525      Safety Data Scientist   Manufacturing-or-mechanical   \n",
       "7987         7987  Junior Software Developer                 computer jobs   \n",
       "37             37  Remote Software Developer                           NaN   \n",
       "7616         7616    Software Developer Int.          Computer-or-internet   \n",
       "\n",
       "                           company_name inferred_city inferred_state  \\\n",
       "2039         Data Systems Analysts, Inc      Aberdeen       Maryland   \n",
       "14518                  AASKI Technology      Aberdeen       Maryland   \n",
       "7987   Applied Research Associates, Inc      Aberdeen       Maryland   \n",
       "37            Capital Markets Placement      Aberdeen       Maryland   \n",
       "7616                             Jacobs      Aberdeen       Maryland   \n",
       "\n",
       "      inferred_country                                    job_description  \\\n",
       "2039               Usa  Data Systems Analysts, Inc. is searching for a...   \n",
       "14518    United states  Overview\\n\\nAASKI Technology is a dynamic gove...   \n",
       "7987     United states  Looking for a great company where you can be a...   \n",
       "37                 Usa  Precision is king when it comes to the work yo...   \n",
       "7616     United states  Overview:\\n\\nJacobs is one of the world's larg...   \n",
       "\n",
       "        job_type                                             Topics  \\\n",
       "2039   Full Time  [(11, 0.34015608), (4, 0.1403401), (3, 0.11725...   \n",
       "14518  Undefined  [(10, 0.28475037), (4, 0.24056295), (5, 0.1893...   \n",
       "7987   Undefined  [(4, 0.30075344), (5, 0.24569768), (0, 0.18960...   \n",
       "37     Full Time  [(4, 0.42233145), (11, 0.28008574), (1, 0.0879...   \n",
       "7616   Undefined  [(4, 0.4667218), (5, 0.3752453), (11, 0.097968...   \n",
       "\n",
       "       Similarity  \n",
       "2039         69.0  \n",
       "14518        44.0  \n",
       "7987         42.0  \n",
       "37           39.0  \n",
       "7616         37.0  "
      ]
     },
     "execution_count": 19,
     "metadata": {},
     "output_type": "execute_result"
    }
   ],
   "source": [
    "topN = new_corpus.loc[new_corpus_vals]\n",
    "topN"
   ]
  },
  {
   "cell_type": "code",
   "execution_count": null,
   "metadata": {},
   "outputs": [],
   "source": []
  }
 ],
 "metadata": {
  "kernelspec": {
   "display_name": "Python 3",
   "language": "python",
   "name": "python3"
  },
  "language_info": {
   "codemirror_mode": {
    "name": "ipython",
    "version": 3
   },
   "file_extension": ".py",
   "mimetype": "text/x-python",
   "name": "python",
   "nbconvert_exporter": "python",
   "pygments_lexer": "ipython3",
   "version": "3.7.6"
  }
 },
 "nbformat": 4,
 "nbformat_minor": 4
}
