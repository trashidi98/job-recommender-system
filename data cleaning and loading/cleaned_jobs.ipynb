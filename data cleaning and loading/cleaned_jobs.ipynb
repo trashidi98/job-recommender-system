{
 "cells": [
  {
   "cell_type": "code",
   "execution_count": 45,
   "metadata": {},
   "outputs": [],
   "source": [
    "import pandas as pd\n",
    "\n",
    "pd.set_option('display.max_columns', None)\n",
    "pd.set_option('display.max_rows', None)"
   ]
  },
  {
   "cell_type": "code",
   "execution_count": 46,
   "metadata": {},
   "outputs": [],
   "source": [
    "software_dev = pd.read_csv('software_developer_10000.csv')\n",
    "data_sci = pd.read_csv('data_scientist_10000.csv')"
   ]
  },
  {
   "cell_type": "code",
   "execution_count": 47,
   "metadata": {},
   "outputs": [
    {
     "data": {
      "text/plain": [
       "Index(['crawl_timestamp', 'url', 'job_title', 'category', 'company_name',\n",
       "       'city', 'state', 'country', 'inferred_city', 'inferred_state',\n",
       "       'inferred_country', 'post_date', 'job_description', 'job_type',\n",
       "       'salary_offered', 'job_board', 'geo', 'cursor', 'contact_email',\n",
       "       'contact_phone_number', 'uniq_id'],\n",
       "      dtype='object')"
      ]
     },
     "execution_count": 47,
     "metadata": {},
     "output_type": "execute_result"
    }
   ],
   "source": [
    "software_dev.columns"
   ]
  },
  {
   "cell_type": "code",
   "execution_count": 48,
   "metadata": {},
   "outputs": [],
   "source": [
    "software_dev_subset = software_dev[['job_title', 'category', 'company_name',\n",
    "       'inferred_city', 'inferred_state',\n",
    "       'inferred_country', 'job_description', 'job_type']]"
   ]
  },
  {
   "cell_type": "code",
   "execution_count": 49,
   "metadata": {},
   "outputs": [
    {
     "data": {
      "text/plain": [
       "job_title              0\n",
       "category             839\n",
       "company_name           0\n",
       "inferred_city       2171\n",
       "inferred_state       793\n",
       "inferred_country     771\n",
       "job_description        0\n",
       "job_type               0\n",
       "dtype: int64"
      ]
     },
     "execution_count": 49,
     "metadata": {},
     "output_type": "execute_result"
    }
   ],
   "source": [
    "software_dev_subset.isna().sum()"
   ]
  },
  {
   "cell_type": "code",
   "execution_count": 50,
   "metadata": {},
   "outputs": [
    {
     "data": {
      "text/html": [
       "<div>\n",
       "<style scoped>\n",
       "    .dataframe tbody tr th:only-of-type {\n",
       "        vertical-align: middle;\n",
       "    }\n",
       "\n",
       "    .dataframe tbody tr th {\n",
       "        vertical-align: top;\n",
       "    }\n",
       "\n",
       "    .dataframe thead th {\n",
       "        text-align: right;\n",
       "    }\n",
       "</style>\n",
       "<table border=\"1\" class=\"dataframe\">\n",
       "  <thead>\n",
       "    <tr style=\"text-align: right;\">\n",
       "      <th></th>\n",
       "      <th>job_title</th>\n",
       "      <th>category</th>\n",
       "      <th>company_name</th>\n",
       "      <th>inferred_city</th>\n",
       "      <th>inferred_state</th>\n",
       "      <th>inferred_country</th>\n",
       "      <th>job_description</th>\n",
       "      <th>job_type</th>\n",
       "    </tr>\n",
       "  </thead>\n",
       "  <tbody>\n",
       "    <tr>\n",
       "      <th>count</th>\n",
       "      <td>10000</td>\n",
       "      <td>9161</td>\n",
       "      <td>10000</td>\n",
       "      <td>7829</td>\n",
       "      <td>9207</td>\n",
       "      <td>9229</td>\n",
       "      <td>10000</td>\n",
       "      <td>10000</td>\n",
       "    </tr>\n",
       "    <tr>\n",
       "      <th>unique</th>\n",
       "      <td>2613</td>\n",
       "      <td>110</td>\n",
       "      <td>3053</td>\n",
       "      <td>1022</td>\n",
       "      <td>53</td>\n",
       "      <td>2</td>\n",
       "      <td>7593</td>\n",
       "      <td>5</td>\n",
       "    </tr>\n",
       "    <tr>\n",
       "      <th>top</th>\n",
       "      <td>Software Developer</td>\n",
       "      <td>Computer-or-internet</td>\n",
       "      <td>Robert Half Technology</td>\n",
       "      <td>Chicago</td>\n",
       "      <td>Oregon</td>\n",
       "      <td>United states</td>\n",
       "      <td>The Software Developer will design, program an...</td>\n",
       "      <td>Undefined</td>\n",
       "    </tr>\n",
       "    <tr>\n",
       "      <th>freq</th>\n",
       "      <td>2217</td>\n",
       "      <td>3115</td>\n",
       "      <td>348</td>\n",
       "      <td>291</td>\n",
       "      <td>1022</td>\n",
       "      <td>5170</td>\n",
       "      <td>118</td>\n",
       "      <td>6678</td>\n",
       "    </tr>\n",
       "  </tbody>\n",
       "</table>\n",
       "</div>"
      ],
      "text/plain": [
       "                 job_title              category            company_name  \\\n",
       "count                10000                  9161                   10000   \n",
       "unique                2613                   110                    3053   \n",
       "top     Software Developer  Computer-or-internet  Robert Half Technology   \n",
       "freq                  2217                  3115                     348   \n",
       "\n",
       "       inferred_city inferred_state inferred_country  \\\n",
       "count           7829           9207             9229   \n",
       "unique          1022             53                2   \n",
       "top          Chicago         Oregon    United states   \n",
       "freq             291           1022             5170   \n",
       "\n",
       "                                          job_description   job_type  \n",
       "count                                               10000      10000  \n",
       "unique                                               7593          5  \n",
       "top     The Software Developer will design, program an...  Undefined  \n",
       "freq                                                  118       6678  "
      ]
     },
     "execution_count": 50,
     "metadata": {},
     "output_type": "execute_result"
    }
   ],
   "source": [
    "software_dev_subset.describe()"
   ]
  },
  {
   "cell_type": "code",
   "execution_count": 51,
   "metadata": {},
   "outputs": [
    {
     "data": {
      "text/plain": [
       "job_title           object\n",
       "category            object\n",
       "company_name        object\n",
       "inferred_city       object\n",
       "inferred_state      object\n",
       "inferred_country    object\n",
       "job_description     object\n",
       "job_type            object\n",
       "dtype: object"
      ]
     },
     "execution_count": 51,
     "metadata": {},
     "output_type": "execute_result"
    }
   ],
   "source": [
    "software_dev_subset.dtypes"
   ]
  },
  {
   "cell_type": "code",
   "execution_count": 52,
   "metadata": {},
   "outputs": [
    {
     "data": {
      "text/plain": [
       "Index(['crawl_timestamp', 'url', 'job_title', 'category', 'company_name',\n",
       "       'city', 'state', 'country', 'inferred_city', 'inferred_state',\n",
       "       'inferred_country', 'post_date', 'job_description', 'job_type',\n",
       "       'salary_offered', 'job_board', 'geo', 'cursor', 'contact_email',\n",
       "       'contact_phone_number', 'uniq_id', 'html_job_description'],\n",
       "      dtype='object')"
      ]
     },
     "execution_count": 52,
     "metadata": {},
     "output_type": "execute_result"
    }
   ],
   "source": [
    "data_sci.columns"
   ]
  },
  {
   "cell_type": "code",
   "execution_count": 53,
   "metadata": {},
   "outputs": [],
   "source": [
    "data_sci_subset = data_sci[['job_title', 'category', 'company_name',\n",
    "       'inferred_city', 'inferred_state',\n",
    "       'inferred_country', 'job_description', 'job_type']]"
   ]
  },
  {
   "cell_type": "code",
   "execution_count": 54,
   "metadata": {},
   "outputs": [
    {
     "data": {
      "text/plain": [
       "job_title           object\n",
       "category            object\n",
       "company_name        object\n",
       "inferred_city       object\n",
       "inferred_state      object\n",
       "inferred_country    object\n",
       "job_description     object\n",
       "job_type            object\n",
       "dtype: object"
      ]
     },
     "execution_count": 54,
     "metadata": {},
     "output_type": "execute_result"
    }
   ],
   "source": [
    "software_dev_subset.dtypes"
   ]
  },
  {
   "cell_type": "code",
   "execution_count": 55,
   "metadata": {},
   "outputs": [
    {
     "data": {
      "text/plain": [
       "job_title              5\n",
       "category             889\n",
       "company_name           7\n",
       "inferred_city       1027\n",
       "inferred_state       522\n",
       "inferred_country     502\n",
       "job_description        7\n",
       "job_type               8\n",
       "dtype: int64"
      ]
     },
     "execution_count": 55,
     "metadata": {},
     "output_type": "execute_result"
    }
   ],
   "source": [
    "data_sci_subset.isna().sum()"
   ]
  },
  {
   "cell_type": "code",
   "execution_count": 56,
   "metadata": {},
   "outputs": [
    {
     "name": "stderr",
     "output_type": "stream",
     "text": [
      "<ipython-input-56-baf4bc9ac1c3>:2: SettingWithCopyWarning: \n",
      "A value is trying to be set on a copy of a slice from a DataFrame\n",
      "\n",
      "See the caveats in the documentation: https://pandas.pydata.org/pandas-docs/stable/user_guide/indexing.html#returning-a-view-versus-a-copy\n",
      "  data_sci_subset.dropna(subset = ['job_title'], inplace=True)\n",
      "<ipython-input-56-baf4bc9ac1c3>:3: SettingWithCopyWarning: \n",
      "A value is trying to be set on a copy of a slice from a DataFrame\n",
      "\n",
      "See the caveats in the documentation: https://pandas.pydata.org/pandas-docs/stable/user_guide/indexing.html#returning-a-view-versus-a-copy\n",
      "  data_sci_subset.dropna(subset = ['job_description'], inplace=True)\n"
     ]
    }
   ],
   "source": [
    "# remove rows with no job title or description\n",
    "data_sci_subset.dropna(subset = ['job_title'], inplace=True)\n",
    "data_sci_subset.dropna(subset = ['job_description'], inplace=True)"
   ]
  },
  {
   "cell_type": "code",
   "execution_count": 57,
   "metadata": {},
   "outputs": [
    {
     "data": {
      "text/plain": [
       "job_title              0\n",
       "category             882\n",
       "company_name           1\n",
       "inferred_city       1020\n",
       "inferred_state       516\n",
       "inferred_country     495\n",
       "job_description        0\n",
       "job_type               1\n",
       "dtype: int64"
      ]
     },
     "execution_count": 57,
     "metadata": {},
     "output_type": "execute_result"
    }
   ],
   "source": [
    "data_sci_subset.isna().sum()"
   ]
  },
  {
   "cell_type": "code",
   "execution_count": 58,
   "metadata": {},
   "outputs": [
    {
     "data": {
      "text/html": [
       "<div>\n",
       "<style scoped>\n",
       "    .dataframe tbody tr th:only-of-type {\n",
       "        vertical-align: middle;\n",
       "    }\n",
       "\n",
       "    .dataframe tbody tr th {\n",
       "        vertical-align: top;\n",
       "    }\n",
       "\n",
       "    .dataframe thead th {\n",
       "        text-align: right;\n",
       "    }\n",
       "</style>\n",
       "<table border=\"1\" class=\"dataframe\">\n",
       "  <thead>\n",
       "    <tr style=\"text-align: right;\">\n",
       "      <th></th>\n",
       "      <th>job_title</th>\n",
       "      <th>category</th>\n",
       "      <th>company_name</th>\n",
       "      <th>inferred_city</th>\n",
       "      <th>inferred_state</th>\n",
       "      <th>inferred_country</th>\n",
       "      <th>job_description</th>\n",
       "      <th>job_type</th>\n",
       "    </tr>\n",
       "  </thead>\n",
       "  <tbody>\n",
       "    <tr>\n",
       "      <th>count</th>\n",
       "      <td>10000</td>\n",
       "      <td>9118</td>\n",
       "      <td>9999</td>\n",
       "      <td>8980</td>\n",
       "      <td>9484</td>\n",
       "      <td>9505</td>\n",
       "      <td>10000</td>\n",
       "      <td>9999</td>\n",
       "    </tr>\n",
       "    <tr>\n",
       "      <th>unique</th>\n",
       "      <td>2754</td>\n",
       "      <td>366</td>\n",
       "      <td>4137</td>\n",
       "      <td>682</td>\n",
       "      <td>49</td>\n",
       "      <td>2</td>\n",
       "      <td>7738</td>\n",
       "      <td>5</td>\n",
       "    </tr>\n",
       "    <tr>\n",
       "      <th>top</th>\n",
       "      <td>Data Scientist</td>\n",
       "      <td>Computer-or-internet</td>\n",
       "      <td>CyberCoders</td>\n",
       "      <td>New york</td>\n",
       "      <td>California</td>\n",
       "      <td>United states</td>\n",
       "      <td>SSRS Data Scientist\\n\\nSSRS, a leading data-dr...</td>\n",
       "      <td>Undefined</td>\n",
       "    </tr>\n",
       "    <tr>\n",
       "      <th>freq</th>\n",
       "      <td>2889</td>\n",
       "      <td>1505</td>\n",
       "      <td>628</td>\n",
       "      <td>690</td>\n",
       "      <td>1954</td>\n",
       "      <td>6964</td>\n",
       "      <td>76</td>\n",
       "      <td>6108</td>\n",
       "    </tr>\n",
       "  </tbody>\n",
       "</table>\n",
       "</div>"
      ],
      "text/plain": [
       "             job_title              category company_name inferred_city  \\\n",
       "count            10000                  9118         9999          8980   \n",
       "unique            2754                   366         4137           682   \n",
       "top     Data Scientist  Computer-or-internet  CyberCoders      New york   \n",
       "freq              2889                  1505          628           690   \n",
       "\n",
       "       inferred_state inferred_country  \\\n",
       "count            9484             9505   \n",
       "unique             49                2   \n",
       "top        California    United states   \n",
       "freq             1954             6964   \n",
       "\n",
       "                                          job_description   job_type  \n",
       "count                                               10000       9999  \n",
       "unique                                               7738          5  \n",
       "top     SSRS Data Scientist\\n\\nSSRS, a leading data-dr...  Undefined  \n",
       "freq                                                   76       6108  "
      ]
     },
     "execution_count": 58,
     "metadata": {},
     "output_type": "execute_result"
    }
   ],
   "source": [
    "data_sci_subset.describe()"
   ]
  },
  {
   "cell_type": "code",
   "execution_count": 59,
   "metadata": {},
   "outputs": [],
   "source": [
    "# concatenate both sets\n",
    "frames = [software_dev_subset, data_sci_subset]\n",
    "all_jobs = pd.concat(frames)"
   ]
  },
  {
   "cell_type": "code",
   "execution_count": null,
   "metadata": {},
   "outputs": [],
   "source": [
    "all_jobs.to_csv('all_jobs.csv')"
   ]
  }
 ],
 "metadata": {
  "interpreter": {
   "hash": "aee8b7b246df8f9039afb4144a1f6fd8d2ca17a180786b69acc140d282b71a49"
  },
  "kernelspec": {
   "display_name": "Python 3.8.5 64-bit",
   "language": "python",
   "name": "python3"
  },
  "language_info": {
   "codemirror_mode": {
    "name": "ipython",
    "version": 3
   },
   "file_extension": ".py",
   "mimetype": "text/x-python",
   "name": "python",
   "nbconvert_exporter": "python",
   "pygments_lexer": "ipython3",
   "version": "3.8.5"
  },
  "orig_nbformat": 4
 },
 "nbformat": 4,
 "nbformat_minor": 2
}
