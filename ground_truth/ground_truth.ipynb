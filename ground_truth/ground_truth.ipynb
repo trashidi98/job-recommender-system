{
 "cells": [
  {
   "cell_type": "code",
   "execution_count": 32,
   "metadata": {},
   "outputs": [
    {
     "name": "stderr",
     "output_type": "stream",
     "text": [
      "[nltk_data] Downloading package stopwords to\n",
      "[nltk_data]     /Users/saimamunir/nltk_data...\n",
      "[nltk_data]   Package stopwords is already up-to-date!\n",
      "[nltk_data] Downloading package wordnet to\n",
      "[nltk_data]     /Users/saimamunir/nltk_data...\n",
      "[nltk_data]   Package wordnet is already up-to-date!\n"
     ]
    }
   ],
   "source": [
    "import pandas as pd\n",
    "import string\n",
    "import nltk\n",
    "import re\n",
    "import unidecode\n",
    "from nltk.stem import WordNetLemmatizer\n",
    "from nltk.tokenize import RegexpTokenizer\n",
    "from nltk.corpus import stopwords\n",
    "nltk.download('stopwords')\n",
    "stopwords = nltk.corpus.stopwords.words('english')\n",
    "from nltk.stem import WordNetLemmatizer\n",
    "nltk.download('wordnet')\n",
    "from gensim.models import Phrases\n",
    "from sklearn.feature_extraction.text import TfidfVectorizer"
   ]
  },
  {
   "cell_type": "code",
   "execution_count": 15,
   "metadata": {},
   "outputs": [
    {
     "data": {
      "text/html": [
       "<div>\n",
       "<style scoped>\n",
       "    .dataframe tbody tr th:only-of-type {\n",
       "        vertical-align: middle;\n",
       "    }\n",
       "\n",
       "    .dataframe tbody tr th {\n",
       "        vertical-align: top;\n",
       "    }\n",
       "\n",
       "    .dataframe thead th {\n",
       "        text-align: right;\n",
       "    }\n",
       "</style>\n",
       "<table border=\"1\" class=\"dataframe\">\n",
       "  <thead>\n",
       "    <tr style=\"text-align: right;\">\n",
       "      <th></th>\n",
       "      <th>cleaned_resume</th>\n",
       "    </tr>\n",
       "  </thead>\n",
       "  <tbody>\n",
       "    <tr>\n",
       "      <th>0</th>\n",
       "      <td>[skills   programming languages  python  panda...</td>\n",
       "    </tr>\n",
       "  </tbody>\n",
       "</table>\n",
       "</div>"
      ],
      "text/plain": [
       "                                      cleaned_resume\n",
       "0  [skills   programming languages  python  panda..."
      ]
     },
     "execution_count": 15,
     "metadata": {},
     "output_type": "execute_result"
    }
   ],
   "source": [
    "resumes = pd.read_csv(r\"./test.csv\")\n",
    "\n",
    "def remove_punc(corpus):\n",
    "    punc_free = \"\".join([i for i in corpus if i not in string.punctuation])\n",
    "    return punc_free\n",
    "\n",
    "def tokenization(corpus):\n",
    "    tokens = re.split('W+',corpus)\n",
    "    return tokens\n",
    "\n",
    "def remove_stopwords(corpus):\n",
    "    output = [i for i in corpus if i not in stopwords]\n",
    "    return output\n",
    "\n",
    "wordnet_lemmatizer = WordNetLemmatizer()\n",
    "\n",
    "def lemmization(corpus):\n",
    "    lemm = [wordnet_lemmatizer.lemmatize(word) for word in corpus]\n",
    "    return lemm\n",
    "\n",
    "def cleanResume(resumeText):\n",
    "    resumeText = re.sub('httpS+s*', ' ', resumeText)  # remove URLs\n",
    "    resumeText = re.sub('RT|cc', ' ', resumeText)  # remove RT and cc\n",
    "    resumeText = re.sub('#S+', '', resumeText)  # remove hashtags\n",
    "    resumeText = re.sub('@S+', '  ', resumeText)  # remove mentions\n",
    "    resumeText = re.sub('[%s]' % re.escape(\"\"\"!\"#$%&'()*+,-./:;<=>?@[]^_`{|}~\"\"\"), ' ', resumeText)  # remove punctuations\n",
    "    #resumeText = re.sub(r'[^x00-x7f]',r' ', resumeText) \n",
    "    #resumeText = re.sub('s+', ' ', resumeText)  # remove extra whitespace\n",
    "    return resumeText\n",
    "\n",
    "resumes['cleaned_resume'] = resumes.Resume.apply(lambda x: cleanResume(x))\n",
    "\n",
    "del resumes[\"Category\"]\n",
    "del resumes[\"Resume\"]\n",
    "\n",
    "resumes['cleaned_resume'] = resumes['cleaned_resume'].apply(lambda x:remove_punc(x))\n",
    "resumes['cleaned_resume'] = resumes['cleaned_resume'].apply(lambda x:x.lower())\n",
    "resumes['cleaned_resume'] = resumes['cleaned_resume'].apply(lambda x:tokenization(x))\n",
    "resumes['cleaned_resume'] = resumes['cleaned_resume'].apply(lambda x:remove_stopwords(x))\n",
    "resumes['cleaned_resume'] = resumes['cleaned_resume'].apply(lambda x:lemmization(x))\n",
    "resumes.head()"
   ]
  },
  {
   "cell_type": "code",
   "execution_count": 16,
   "metadata": {},
   "outputs": [
    {
     "name": "stdout",
     "output_type": "stream",
     "text": [
      "<class 'pandas.core.frame.DataFrame'>\n"
     ]
    }
   ],
   "source": [
    "print(type(resumes))"
   ]
  },
  {
   "cell_type": "code",
   "execution_count": 17,
   "metadata": {},
   "outputs": [
    {
     "name": "stdout",
     "output_type": "stream",
     "text": [
      "                                      cleaned_resume\n",
      "0  [skills   programming languages  python  panda...\n"
     ]
    }
   ],
   "source": [
    "print(resumes)"
   ]
  },
  {
   "cell_type": "code",
   "execution_count": 51,
   "metadata": {},
   "outputs": [
    {
     "data": {
      "text/html": [
       "<div>\n",
       "<style scoped>\n",
       "    .dataframe tbody tr th:only-of-type {\n",
       "        vertical-align: middle;\n",
       "    }\n",
       "\n",
       "    .dataframe tbody tr th {\n",
       "        vertical-align: top;\n",
       "    }\n",
       "\n",
       "    .dataframe thead th {\n",
       "        text-align: right;\n",
       "    }\n",
       "</style>\n",
       "<table border=\"1\" class=\"dataframe\">\n",
       "  <thead>\n",
       "    <tr style=\"text-align: right;\">\n",
       "      <th></th>\n",
       "      <th>cleaned_resume</th>\n",
       "    </tr>\n",
       "  </thead>\n",
       "  <tbody>\n",
       "    <tr>\n",
       "      <th>0</th>\n",
       "      <td>[the chosen sr  software developer will be par...</td>\n",
       "    </tr>\n",
       "  </tbody>\n",
       "</table>\n",
       "</div>"
      ],
      "text/plain": [
       "                                      cleaned_resume\n",
       "0  [the chosen sr  software developer will be par..."
      ]
     },
     "execution_count": 51,
     "metadata": {},
     "output_type": "execute_result"
    }
   ],
   "source": [
    "jd = pd.read_csv(r\"./jd_test.csv\")\n",
    "\n",
    "def remove_punc(corpus):\n",
    "    punc_free = \"\".join([i for i in corpus if i not in string.punctuation])\n",
    "    return punc_free\n",
    "\n",
    "def tokenization(corpus):\n",
    "    tokens = re.split('W+',corpus)\n",
    "    return tokens\n",
    "\n",
    "def remove_stopwords(corpus):\n",
    "    output = [i for i in corpus if i not in stopwords]\n",
    "    return output\n",
    "\n",
    "wordnet_lemmatizer = WordNetLemmatizer()\n",
    "\n",
    "def lemmization(corpus):\n",
    "    lemm = [wordnet_lemmatizer.lemmatize(word) for word in corpus]\n",
    "    return lemm\n",
    "\n",
    "def cleanResume(resumeText):\n",
    "    resumeText = re.sub('httpS+s*', ' ', resumeText)  # remove URLs\n",
    "    resumeText = re.sub('RT|cc', ' ', resumeText)  # remove RT and cc\n",
    "    resumeText = re.sub('#S+', '', resumeText)  # remove hashtags\n",
    "    resumeText = re.sub('@S+', '  ', resumeText)  # remove mentions\n",
    "    resumeText = re.sub('[%s]' % re.escape(\"\"\"!\"#$%&'()*+,-./:;<=>?@[]^_`{|}~\"\"\"), ' ', resumeText)  # remove punctuations\n",
    "    #resumeText = re.sub(r'[^x00-x7f]',r' ', resumeText) \n",
    "    #resumeText = re.sub('s+', ' ', resumeText)  # remove extra whitespace\n",
    "    \n",
    "    # ^^ REMOVED BY ME\n",
    "    return resumeText\n",
    "\n",
    "jd['cleaned_resume'] = jd.Description.apply(lambda x: cleanResume(x))\n",
    "\n",
    "del jd[\"Job Title\"]\n",
    "del jd[\"Description\"]\n",
    "\n",
    "#jd['cleaned_resume'] = jd['cleaned_resume'].apply(lambda x:remove_punc(x))\n",
    "jd['cleaned_resume'] = jd['cleaned_resume'].apply(lambda x:x.lower())\n",
    "jd['cleaned_resume'] = jd['cleaned_resume'].apply(lambda x:tokenization(x))\n",
    "jd['cleaned_resume'] = jd['cleaned_resume'].apply(lambda x:remove_stopwords(x))\n",
    "jd['cleaned_resume'] = jd['cleaned_resume'].apply(lambda x:lemmization(x))\n",
    "jd.head() "
   ]
  },
  {
   "cell_type": "code",
   "execution_count": 52,
   "metadata": {},
   "outputs": [
    {
     "data": {
      "text/plain": [
       "0    [the chosen sr  software developer will be par...\n",
       "Name: cleaned_resume, dtype: object"
      ]
     },
     "execution_count": 52,
     "metadata": {},
     "output_type": "execute_result"
    }
   ],
   "source": [
    "jd['cleaned_resume']"
   ]
  },
  {
   "cell_type": "code",
   "execution_count": 53,
   "metadata": {},
   "outputs": [
    {
     "name": "stdout",
     "output_type": "stream",
     "text": [
      "<class 'pandas.core.series.Series'>\n"
     ]
    }
   ],
   "source": [
    "jobs = jd['cleaned_resume'].astype(str)\n",
    "print(type(jobs))\n"
   ]
  },
  {
   "cell_type": "code",
   "execution_count": 54,
   "metadata": {},
   "outputs": [
    {
     "name": "stdout",
     "output_type": "stream",
     "text": [
      "0    ['skills   programming languages  python  pand...\n",
      "Name: cleaned_resume, dtype: object\n"
     ]
    }
   ],
   "source": [
    "resumes['cleaned_resume'] = resumes['cleaned_resume'].astype(str)\n",
    "print(resumes['cleaned_resume'])"
   ]
  },
  {
   "cell_type": "code",
   "execution_count": 55,
   "metadata": {},
   "outputs": [
    {
     "name": "stdout",
     "output_type": "stream",
     "text": [
      "[\"['the chosen sr  software developer will be part of a larger engineering team developing software for medical devices used within the orthopedic industry  sr  software developer will be responsible for  designs  codes  and reviews software writes unit tests to demonstrate proper software functionality collaborates with software testers to ensure good test coverage  resolve defects  and mitigate safety hazards communicates with product management  project managers  technical writers  and medical personnel design and implementation of feature development including identification of all tasks and the dependencies between tasks  features  and components provides technical expertise to architects  analysts  and other engineers as input for product design  implementation  and troubleshooting mentors junior engineers in software development best practices and testing methodologies via code and design review may participate in tool and library selections  development environment improvements  and process refinement education and experience requirements bs in computer science or related degree 5  years of professional software engineering experience 3  years of current experience developing with c    and or c  3  years of experience working with windows application development 3  years of experience working with visual studio experience with meteor  node js  experience with programming in a regulatory environment  medical  automotive  avionics  experience with software as a medical device  samd  and iec 62304 a big plus experience with qt family of application development tools  gui development using qt qt widgets qml unit testing with google test gui testing with squish understanding of bdd gherkin executable test cases experience with postgresql for database development experience with medical machine control or healthcare technology is a plus strong communication skills other desirable skills and experience strong object oriented design skills experience writing multi threaded software experience working in an agile development environment about aerotek  we know that a company s su ess starts with its employees  we also know that an individual s su ess starts with the right career opportunity  as a best of staffing¬æ client and talent leader  aerotek s people focused approach yields competitive advantage for our clients and rewarding careers for our contract employees  since 1983  aerotek has grown to become a leader in recruiting and staffing services  with more than 250 non franchised offices  aerotek s 8 000 internal employees serve more than 300 000 contract employees and 18 000 clients every year  aerotek is an allegis group company  the global leader in talent solutions  learn more at aerotek com  the company is an equal opportunity employer and will consider all applications without regards to race  sex  age  color  religion  national origin  veteran status  disability  sexual orientation  gender identity  genetic information or any characteristic protected by law  if you would like to request a reasonable a ommodation  such as the modification or adjustment of the job application process or interviewing process due to a disability  please call 888 237 6835 or email a ommodation aerotek  com for other a ommodation options  however  if you have questions about this position  please contact the recruiter located at the bottom of the job posting  the recruiter is the sole point of contact for questions about this position ']\"]\n"
     ]
    }
   ],
   "source": [
    "doublearr = list(jobs)\n",
    "print(doublearr)"
   ]
  },
  {
   "cell_type": "code",
   "execution_count": 57,
   "metadata": {},
   "outputs": [],
   "source": [
    "def normalize(text):\n",
    "    return stem_tokens(nltk.word_tokenize(text.lower().translate(remove_punctuation_map)))\n",
    "    \n",
    "vectorizer = TfidfVectorizer(tokenizer=normalize, stop_words='english')\n",
    "def cosine_sim(text1, text2):\n",
    "    tfidf = vectorizer.fit_transform([text1, text2])\n",
    "    return ((tfidf * tfidf.T).A)[0,1]"
   ]
  },
  {
   "cell_type": "code",
   "execution_count": 59,
   "metadata": {},
   "outputs": [
    {
     "name": "stdout",
     "output_type": "stream",
     "text": [
      "0.12793046291071827\n"
     ]
    }
   ],
   "source": [
    "print (cosine_sim(textarr, 'software dev'))\n"
   ]
  }
 ],
 "metadata": {
  "interpreter": {
   "hash": "aee8b7b246df8f9039afb4144a1f6fd8d2ca17a180786b69acc140d282b71a49"
  },
  "kernelspec": {
   "display_name": "Python 3.8.5 64-bit",
   "language": "python",
   "name": "python3"
  },
  "language_info": {
   "codemirror_mode": {
    "name": "ipython",
    "version": 3
   },
   "file_extension": ".py",
   "mimetype": "text/x-python",
   "name": "python",
   "nbconvert_exporter": "python",
   "pygments_lexer": "ipython3",
   "version": "3.8.5"
  },
  "orig_nbformat": 4
 },
 "nbformat": 4,
 "nbformat_minor": 2
}
