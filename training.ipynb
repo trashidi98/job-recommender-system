{
 "cells": [
  {
   "cell_type": "code",
   "execution_count": 1,
   "metadata": {},
   "outputs": [
    {
     "name": "stderr",
     "output_type": "stream",
     "text": [
      "[nltk_data] Downloading package stopwords to\n",
      "[nltk_data]     C:\\Users\\zesha\\AppData\\Roaming\\nltk_data...\n",
      "[nltk_data]   Package stopwords is already up-to-date!\n",
      "[nltk_data] Downloading package wordnet to\n",
      "[nltk_data]     C:\\Users\\zesha\\AppData\\Roaming\\nltk_data...\n",
      "[nltk_data]   Package wordnet is already up-to-date!\n",
      "[nltk_data] Downloading package punkt to\n",
      "[nltk_data]     C:\\Users\\zesha\\AppData\\Roaming\\nltk_data...\n",
      "[nltk_data]   Package punkt is already up-to-date!\n"
     ]
    }
   ],
   "source": [
    "from multiprocessing import freeze_support\n",
    "import pandas as pd\n",
    "import string\n",
    "import nltk\n",
    "import re\n",
    "import matplotlib.pyplot as plt\n",
    "import gensim.corpora as corpora\n",
    "import gensim\n",
    "from nltk.corpus import stopwords\n",
    "from nltk.stem import WordNetLemmatizer\n",
    "import numpy as np\n",
    "from gensim.models import Phrases, CoherenceModel\n",
    "from nltk.tokenize import word_tokenize\n",
    "from gensim.test.utils import datapath\n",
    "from sklearn.cluster import MiniBatchKMeans, KMeans\n",
    "from sklearn.decomposition import PCA\n",
    "from sklearn.feature_extraction.text import TfidfVectorizer\n",
    "import matplotlib.cm as cm\n",
    "from sklearn.manifold import TSNE\n",
    "\n",
    "nltk.download('stopwords')\n",
    "stopwords = nltk.corpus.stopwords.words('english')\n",
    "nltk.download('wordnet')\n",
    "nltk.download('punkt')\n",
    "\n",
    "wordnet_lemmatizer = WordNetLemmatizer()\n",
    "wpt = nltk.WordPunctTokenizer()\n",
    "lemmatizer = nltk.WordNetLemmatizer()"
   ]
  },
  {
   "cell_type": "code",
   "execution_count": 2,
   "metadata": {},
   "outputs": [],
   "source": [
    "stopwords.append('u')\n",
    "stopwords.append('com')"
   ]
  },
  {
   "cell_type": "code",
   "execution_count": 92,
   "metadata": {},
   "outputs": [],
   "source": [
    "# Point to directories \n",
    "\n",
    "jobs = pd.read_csv(r\"C://Users//zesha//Downloads//all_jobs.csv\")\n",
    "resumes = pd.read_csv(r\"C://Users//zesha//Downloads//all_resumes.csv\")"
   ]
  },
  {
   "cell_type": "code",
   "execution_count": 4,
   "metadata": {},
   "outputs": [
    {
     "name": "stdout",
     "output_type": "stream",
     "text": [
      "Number of jobs: 20000\n",
      "Number of resumes: 29783\n"
     ]
    }
   ],
   "source": [
    "# How many jobs and resumes\n",
    "\n",
    "print(\"Number of jobs: \" + str(jobs.shape[0]))\n",
    "print(\"Number of resumes: \" + str(resumes.shape[0]))\n",
    "\n",
    "# We are only running our model based on the job description\n",
    "\n",
    "jobs_desc = jobs['job_description'].copy()"
   ]
  },
  {
   "cell_type": "code",
   "execution_count": 42,
   "metadata": {},
   "outputs": [
    {
     "data": {
      "text/plain": [
       "0    The chosen Sr. Software Developer will be part...\n",
       "1    Position:     C# Lead Software Developer Locat...\n",
       "2    Senior Software Developer Hoboken, NJ Starts a...\n",
       "3    Our client, a multinational publishing and edu...\n",
       "4    Position:     C# Lead Software Developer Locat...\n",
       "Name: job_description, dtype: object"
      ]
     },
     "execution_count": 42,
     "metadata": {},
     "output_type": "execute_result"
    }
   ],
   "source": [
    "jobs_desc.head()"
   ]
  },
  {
   "cell_type": "code",
   "execution_count": 5,
   "metadata": {},
   "outputs": [],
   "source": [
    "### PREPROCESSING\n",
    "\n",
    "def remove_punc(corpus):\n",
    "    punc_free = \"\".join([i for i in corpus if i not in string.punctuation])\n",
    "    return punc_free\n",
    "\n",
    "def tokenization(corpus):\n",
    "    tokens = wpt.tokenize(corpus)\n",
    "    return tokens\n",
    "\n",
    "def remove_stopwords(corpus):\n",
    "    output = [i for i in corpus if i not in stopwords]\n",
    "    return output\n",
    "\n",
    "def lemmization(corpus):\n",
    "    lemm = [wordnet_lemmatizer.lemmatize(word) for word in corpus]\n",
    "    return lemm\n",
    "\n",
    "def cleanResume(corpus):\n",
    "    corpus = re.sub('httpS+s*', ' ', corpus)  # remove URLs\n",
    "    corpus = re.sub('RT|cc', ' ', corpus)  # remove RT and cc\n",
    "    corpus = re.sub('#S+', '', corpus)  # remove hashtags\n",
    "    corpus = re.sub('@S+', '  ', corpus)  # remove mentions\n",
    "    corpus = re.sub('[%s]' % re.escape(\"\"\"!\"#$%&'()*+,-./:;<=>?@[]^_`{|}~•’\"\"\"), ' ', corpus)  # remove punctuations\n",
    "    return corpus\n",
    "\n",
    "def preprocessing(resumes):\n",
    "    resumes['cleaned'] = resumes.apply(lambda x: cleanResume(x))\n",
    "    print(\"Cleaned corpus\")\n",
    "    resumes['cleaned'] = resumes['cleaned'].apply(lambda x:remove_punc(x))\n",
    "    print(\"Removed punctuation\")\n",
    "    resumes['cleaned'] = resumes['cleaned'].apply(lambda x:x.lower())\n",
    "    print(\"Lowercase\")\n",
    "    resumes['cleaned'] = resumes['cleaned'].apply(lambda x:tokenization(x))\n",
    "    print(\"Tokenized corpus\")\n",
    "    resumes['cleaned'] = resumes['cleaned'].apply(lambda x:remove_stopwords(x))\n",
    "    print(\"Removed Stopwords\")\n",
    "    resumes['cleaned'] = resumes['cleaned'].apply(lambda x:lemmization(x))\n",
    "    print(\"Lemmatized corpus\")\n",
    "    resumes.head()\n",
    "    return resumes"
   ]
  },
  {
   "cell_type": "code",
   "execution_count": 6,
   "metadata": {},
   "outputs": [
    {
     "name": "stdout",
     "output_type": "stream",
     "text": [
      "Cleaned corpus\n",
      "Removed punctuation\n",
      "Lowercase\n",
      "Tokenized corpus\n",
      "Removed Stopwords\n",
      "Lemmatized corpus\n"
     ]
    }
   ],
   "source": [
    "corpus = preprocessing(jobs_desc)\n",
    "corpus = jobs_desc['cleaned'].tolist()    "
   ]
  },
  {
   "cell_type": "code",
   "execution_count": 7,
   "metadata": {},
   "outputs": [],
   "source": [
    "def CreateList(corpus):\n",
    "    corpus_list = []\n",
    "    for i in range (len(corpus)):\n",
    "        temp = []\n",
    "        for word in (corpus[i]):\n",
    "            temp.append(word)\n",
    "        temp = \" \".join(temp)\n",
    "        corpus_list.append(temp)\n",
    "    return corpus_list\n",
    "\n",
    "corpus_list = CreateList(corpus)"
   ]
  },
  {
   "cell_type": "code",
   "execution_count": 18,
   "metadata": {},
   "outputs": [],
   "source": [
    "def TokenizeLemm(corpus_list):\n",
    "\n",
    "    #Tokenise the corpus\n",
    "    tokenized_corp = [word_tokenize(i) for i in corpus_list]\n",
    "\n",
    "    # Create Dictionary\n",
    "    id2word = corpora.Dictionary(tokenized_corp)\n",
    "\n",
    "    #Remove words that don't feature 20 times and those that feature in over 50% of documents\n",
    "    id2word.filter_extremes(no_below=20, no_above=0.5, keep_n=80000)\n",
    "\n",
    "    texts = tokenized_corp\n",
    "\n",
    "    # Term Document Frequency\n",
    "    corpus_final = [id2word.doc2bow(text) for text in texts]\n",
    "    \n",
    "    return corpus_final, id2word, texts\n",
    "\n",
    "corpus_final, id2word, texts = TokenizeLemm(corpus_list)"
   ]
  },
  {
   "cell_type": "code",
   "execution_count": 9,
   "metadata": {},
   "outputs": [],
   "source": [
    "def find_optimal_clusters(dataframe1, max_k):\n",
    "    iters = range(1, max_k+1, 1)\n",
    "    \n",
    "    sse = []\n",
    "    for k in iters:\n",
    "        sse.append(MiniBatchKMeans(n_clusters=k, init_size=1024, batch_size=2048, random_state=100).fit(dataframe1).inertia_)\n",
    "        print('Fit {} clusters'.format(k))\n",
    "        \n",
    "    f, ax = plt.subplots(1, 1)\n",
    "    ax.plot(iters, sse, marker='o')\n",
    "    ax.set_xlabel('Cluster Centers')\n",
    "    ax.set_xticks(iters)\n",
    "    ax.set_xticklabels(iters)\n",
    "    ax.set_ylabel('SSE')\n",
    "    ax.set_title('SSE by Cluster Center Plot')"
   ]
  },
  {
   "cell_type": "code",
   "execution_count": 10,
   "metadata": {},
   "outputs": [],
   "source": [
    "dataframe = pd.DataFrame(corpus_list)\n",
    "dataframe.columns = [\"Description\"]"
   ]
  },
  {
   "cell_type": "code",
   "execution_count": 11,
   "metadata": {},
   "outputs": [],
   "source": [
    "tfidf = TfidfVectorizer(\n",
    "    min_df = 5,\n",
    "    max_df = 0.95,\n",
    "    max_features = 2000,\n",
    "    stop_words = 'english'\n",
    ")\n",
    "tfidf.fit(dataframe.Description)\n",
    "text = tfidf.transform(dataframe.Description)"
   ]
  },
  {
   "cell_type": "code",
   "execution_count": 12,
   "metadata": {},
   "outputs": [
    {
     "name": "stdout",
     "output_type": "stream",
     "text": [
      "Fit 1 clusters\n",
      "Fit 2 clusters\n",
      "Fit 3 clusters\n",
      "Fit 4 clusters\n",
      "Fit 5 clusters\n",
      "Fit 6 clusters\n",
      "Fit 7 clusters\n",
      "Fit 8 clusters\n",
      "Fit 9 clusters\n",
      "Fit 10 clusters\n",
      "Fit 11 clusters\n",
      "Fit 12 clusters\n",
      "Fit 13 clusters\n",
      "Fit 14 clusters\n",
      "Fit 15 clusters\n"
     ]
    },
    {
     "data": {
      "image/png": "iVBORw0KGgoAAAANSUhEUgAAAZEAAAEWCAYAAACnlKo3AAAABHNCSVQICAgIfAhkiAAAAAlwSFlzAAALEgAACxIB0t1+/AAAADh0RVh0U29mdHdhcmUAbWF0cGxvdGxpYiB2ZXJzaW9uMy4xLjMsIGh0dHA6Ly9tYXRwbG90bGliLm9yZy+AADFEAAAgAElEQVR4nO3deXxcVf3/8dc7S9N0I20T6E63tKylhbC37EtRpBVRFtm+oiBSEFGU6k9BRUEWiwKiCBVEpSDWgoCWVUqxtKQLLYWWrtB039KNNM3y+f1xT8qQTpI2mclk+Twfj3lk5tx7zz0zbfKZc8695yMzwznnnKuPtFQ3wDnnXPPlQcQ551y9eRBxzjlXbx5EnHPO1ZsHEeecc/XmQcQ551y9eRBxzZak2yT9paWdqzWT9Jik21PdDrf3PIi4hJM0XNL/JG2RtEnSW5KODtvaSLpXUpGk7ZKWSRoXc+xySSVhW9XjgUZq9yWSCsM5V0v6t6ThCay/rySTlJGoOkO9bUKQWyRpR/gMx0vqm4C6/yvp6w1v5R517gyf8wZJEyV1r0c9JmlgItvm9p0HEZdQkjoBzwP3A12AnsBPgdKwy1igADgG6AicCsyuVs0XzKxDzGNMI7T7JuA+4JfAAUAf4HfAqGSfe2/VEnyeAc4DLgH2A44AZgKnN1LTaiQpvYZNY8ysAzAIyAHG1bCfa+I8iLhEGwRgZk+aWYWZlZjZS2Y2N2w/Gvinma2yyHIz+3MDztdW0lOStkmaJekIAEk3S/pH7I6S7pd0X/UKJO0H/Ay4zswmmtkOMyszs3+Z2c1x9j9FUlG1suWSzgjPjwk9mq2S1kr6ddhtSvhZHL6FHx/2/5qkDyRtljRZ0oEx9Zqk6yQtAhbFacsZwJnAKDN7x8zKzWyLmT1oZo9WvT9Jj4be1UpJt1f9cZd0paSpku4J518m6Zyw7RfACOCB2B6hpIMkvRx6mQslfSWmPY9JekjSi5J2EH1JqJGZbQL+ARwWb7ukb0haHM71nKQeobzqs3w3tO3C2s7jkseDiEu0D4EKSY9LOkdS52rb3wZukvQtSYdLUgPPNwr4O1Gv52/AJEmZwF+AkZJyYPe3+AuBJ+LUcTzQFvhnA9tS5TfAb8ysEzAAeDqUnxR+5oQe1jRJo4EfAucDecCbwJPV6hsNHAscEudcZwAzzGxFLe15HCgHBgLDgLOA2CGqY4GFQC5wF/CoJJnZj0J7xlT1CCW1B14m+qz3By4Gfifp0Jj6LgF+QdTTnFpLu5CUC3yJPXujSDoNuAP4CtAd+AiYAGBmVZ/lEaFtT9V2Hpc8HkRcQpnZVmA4YMAfgfXhG+QBYZc7gF8BXwUKgZWSrqhWzSRJxTGPb9Ryyplm9oyZlQG/JgoGx5nZaqJv/l8O+40ENpjZzDh1dA3byvf9HcdVBgyUlGtm283s7Vr2vQa4w8w+COf/JTA0tjcStm8ys5Ia2r66psrD534OcGPoYa0jGjq6KGa3j8zsj2ZWQRRwuhMN6cVzLrDczP4Uej2ziHoSF8Ts86yZvWVmlWa2s4Z6fiupGHg3tP+mOPt8FRhvZrPMrJRoKPT4RMz1uMTxIOISLvxBvNLMehENU/Qgmm8gDHE9aGYnEo2F/wIYL+ngmCpGm1lOzOOPtZxu9zdwM6sEisL5IPqDeGl4finxeyEAG4HcBE54X0U0rLdA0juSzq1l3wOB31QFTGATIKK5pCq19TI2Ev3Rr63+TGB1zDn+QNSLqLKm6omZfRKedqilvmNjgzzRH/tue9neKjeEf9ueZvZVM1sfZ58eRL2PqrZtJ3q/PePs61LEg4hLKjNbADxGnDHvMF/yILCZ+EM1e6N31RNJaUAvYFUomgQMkXQY0Tfov9ZQxzRgJ9Gw0d7YAbSLOW860VAUAGa2yMwuJvpD/SvgmTAMFG/J7BXANdWCZraZ/S9mn9qW2n4FOEZSrxq2ryC6qCE3pv5OZnZoDftXV/3cK4A3qrW3g5ldu5ft3ReriIIWAOEz7AqsTFD9LgE8iLiECpOu3636oyapN9G4+dvh9Y1hYjpbUkYYyupInDHxvXSUpPNDL+JGoj+YbwOEoZRniMbvZ5jZx/EqMLMtwE+AByWNltROUmaY07krziEfEk3ofz7Mv/w/ICvmM7hUUl7oGRWH4gpgPVAJ9I+p6/fA2Ko5hTAJ/mX2kpm9QjRH8U9JR4XPtKOkb0r6WhjWewm4V1InSWmSBkg6eS9PsbZae58HBkm6LHxGmZKOrtaTTJS/Af8naaikLKKhvulmtryGtrkU8CDiEm0b0UTt9HB1ztvAe8B3w/YS4F6iIZQNwHXAl8xsaUwd/9Jn7xOpbcL7WaIJ883AZcD5YX6kyuPA4dQ8lAWAmf2aaFz+/xH9sV8BjCHqzVTfdwvwLeARom/FO4iG0aqMBOZL2k40yX6Rme0MQ0W/AN4KQ0HHmdk/iXorEyRtDZ/VObW1NY4LgBeBp4AtoY4Col4KwOVAG+B9os/pGWofAov1G+CCcOXWb81sG9HE/EVEPYU1of1ZtdRRL2b2KvBjojmX1UQXKcTO5dwGPB4+y6/sWYNrDPKkVK4lk9QHWAB0C5P+zrkE8p6Ia7HCHMlNwAQPIM4lR0KXX3CuqQiTsGuJru4ZmeLmONdi+XCWc865evPhLOecc/XW6oazcnNzrW/fvqluhnPONSszZ87cYGZ51ctbXRDp27cvhYWFqW6Gc841K5I+ilfuw1nOOefqzYOIc865evMg4pxzrt48iDjnnKs3DyLOOefqrdVdnVUfk2av5O7JC1lVXEKPnGxuPnswo4d5SgPnnPMgUodJs1cyduI8SsoqAFhZXMLYifMAPJA451o9H86qw92TF+4OIFVKyiq4e/LCFLXIOeeajqQFEUnjJa2T9F5M2VOS5oTHcklzYraNlbRY0kJJZ8eUjwxliyXdElPeT9J0SYtCvW2S8T5WFcdLa11zuXPOtSbJ7Ik8RrXVU83sQjMbamZDiRLNTASQdAhRsplDwzG/k5Qe0o4+SJSk5xDg4rAvRIlwxplZPlGinauS8SZ65GTvU7lzzrUmSQsiZjYF2BRvmyQBXwGeDEWjiHI+lJrZMmAxcEx4LDazpWa2C5gAjArHn0aUoQ2i7HV7mx97n9x89mCyM9M/U5admc7NZw9Oxumcc65ZSdWcyAhgrZktCq97EqUjrVIUymoq7woUm1l5tfKEGz2sJ3ecfzg9Q8+jbUYad5x/uE+qO+ccqQsiF/NpLwRAcfaxepTHJelqSYWSCtevX79PDYUokLx1y2l89dg+ZKSn8fkhe5ue2jnnWrZGDyKSMoDzgadiiouA3jGvewGrainfAOSEumLL4zKzh82swMwK8vL2WMl4r43Iz2V7aTlzVhTXuw7nnGtJUtETOQNYYGZFMWXPARdJypLUD8gHZgDvAPnhSqw2RJPvz1mUjvF14IJw/BXAs8lu+PEDckkTvPnhvvdmnHOuJUrmJb5PAtOAwZKKJFVdPXURnx3KwszmA08D7wP/Aa4zs4ow5zEGmAx8ADwd9gX4AXCTpMVEcySPJuu9VNkvO5Mjeufw5uINyT6Vc841C0m7Y93MLq6h/Moayn8B/CJO+YvAi3HKlxJdvdWoRgzM5YHXF7OlpIz9sjMb+/TOOdek+B3r+2h4fh6VBtOWbEx1U5xzLuU8iOyjYX1yaN8mnamLfV7EOec8iOyjzPQ0juvflamLfF7EOec8iNTD8Pxclm/8hBWbPkl1U5xzLqU8iNTDiPxcAKb6VVrOuVbOg0g9DMjrQLdObX1IyznX6nkQqQdJDM/P5a0lG6iorHG1Feeca/E8iNTTiPxcij8pY/6qLaluinPOpYwHkXo6cWA0L/KmD2k551oxDyL1lNshi4O7d/J5Eedcq+ZBpAFG5Ocy86PNlOyqqHtn55xrgTyINMDwgbnsqqhk+jJfAsU51zp5EGmAY/p1oU1Gmg9pOedaLQ8iDdA2M52j+3b2mw6dc62WB5EGGj4wjwVrtrFu685UN8U55xqdB5EG8iVQnHOtWTIzG46XtE7Se9XKr5e0UNJ8SXeFskxJj0uaJ+kDSWNj9h8Z9l8s6ZaY8n6SpktaJOmpkD630R3SvRNd2rfxeRHnXKuUzJ7IY8DI2AJJpwKjgCFmdihwT9j0ZSDLzA4HjgKukdRXUjrwIHAOcAhwsaRDwjG/AsaZWT6wGbiKFEhLEycM6MrUxRuIUr8751zrkbQgYmZTgE3Viq8F7jSz0rDPuqrdgfaSMoBsYBewlSj97WIzW2pmu4AJwChJAk4DngnHPw6MTtZ7qcuI/FzWbSvlw7XbU9UE55xLicaeExkEjAjDUG9IOjqUPwPsAFYDHwP3mNkmoCewIub4olDWFSg2s/Jq5XFJulpSoaTC9esTn5FweH4eAG8u8myHzrnWpbGDSAbQGTgOuBl4OvQqjgEqgB5AP+C7kvoDilOH1VIel5k9bGYFZlaQl5fXwLewp5452fTPa++T6865Vqexg0gRMNEiM4BKIBe4BPiPmZWFIa63gIKwf++Y43sBq4ANQE4Y/ootT5kRA3OZvnQTpeW+BIpzrvVo7CAyiWguA0mDgDZEAeFj4DRF2hP1VBYA7wD54UqsNsBFwHMWzWC/DlwQ6r0CeLZR30k1w/PzKCmrYNZHxalshnPONapkXuL7JDANGCypSNJVwHigf7jsdwJwRQgIDwIdgPeIAsefzGxumPMYA0wGPgCeNrP54RQ/AG6StJhojuTRZL2XvXFc/y6kp4mpi31exDnXeqi1XZZaUFBghYWFSan7gof+R1lFJc+OGZ6U+p1zLlUkzTSzgurlfsd6Ag3Pz2Xuyi0Uf7Ir1U1xzrlG4UEkgUbk52IG/1viS8M751oHDyIJdESvHDpmZXjKXOdcq+FBJIEy0tM4bkBXn1x3zrUaHkQSbER+Lis2lfDRxh2pbopzziWdB5EEGz4wWhreh7Scc62BB5EE65fbnp452b40vHOuVfAgkmCSGD4wl7eWbKC8ojLVzXHOuaTyIJIEw/Nz2baznLkrt6S6Kc45l1QeRJLgxIG5SPiQlnOuxfMgkgRd2rfh0B6dPIg451o8DyJJMnxgHrM+3sz20vK6d3bOuWbKg0iSjMjPpbzSmL7Ul0BxzrVcHkSS5KgDO5OVkeb3izjnWjQPIknSNjOdY/p18ZS5zrkWzYNIEo3Iz2Xxuu2s3lKS6qY451xSJDOz4XhJ60IWw9jy6yUtlDRf0l0x5UMkTQvl8yS1DeVHhdeLJf1WkkJ5F0kvS1oUfnZO1nupr+ED8wC/1Nc513IlsyfyGDAytkDSqcAoYIiZHQrcE8ozgL8A3wzlpwBl4bCHgKuB/PCoqvMW4FUzywdeDa+blIO6dSS3Q5YPaTnnWqykBREzmwJsqlZ8LXCnmZWGfdaF8rOAuWb2bijfaGYVkroDncxsWsjF/mdgdDhmFPB4eP54THmTkZYmhg/syluLN1BZ2brSEDvnWofGnhMZBIyQNF3SG5KOjik3SZMlzZL0/VDeEyiKOb4olAEcYGarAcLP/Ws6qaSrJRVKKly/vnFzfQzPz2PD9l0sWLOtUc/rnHONobGDSAbQGTgOuBl4OsxxZADDga+Gn1+UdDqgOHXs81d6M3vYzArMrCAvL6/eja+PqqXhPVGVc64lauwgUgRMtMgMoBLIDeVvmNkGM/sEeBE4MpT3ijm+F7AqPF8bhrsIP9fRBHXbry35+3fw+0Wccy1SYweRScBpAJIGAW2ADcBkYIikdmGS/WTg/TBMtU3ScaHHcjnwbKjrOeCK8PyKmPImZ3h+LjOWbWJnWUWqm+KccwmVzEt8nwSmAYMlFUm6ChgP9A+X/U4Argi9ks3Ar4F3gDnALDN7IVR1LfAIsBhYAvw7lN8JnClpEXBmeN0kjcjPpbS8kpkfbU51U5xzLqEyklWxmV1cw6ZLa9j/L0SX+VYvLwQOi1O+ETi9IW1sLMf260pmunhz0QZODHMkzjnXEvgd642gfVYGw/p05s1FPrnunGtZPIg0khEDc5m/aisbt5emuinOOZcwHkQayfD8aBjrrSW+NLxzruXwINJIhvTKoVPbDKb6kJZzrgXxINJI0tPECQNymbpoA9EKLs451/x5EGlEw/NzWbVlJ0s37Eh1U5xzLiE8iDSiEWFexJeGd861FB5EGtGBXdvTu0u2L4HinGsxPIg0suED83h76UbKKipT3RTnnGswDyKNbER+LttLy3l3RXGqm+Kccw3mQaSRnTCgKxI+pOWcaxE8iDSynHZtGNJzP0+Z65xrETyIpMDw/FzmrChm686yund2zrkmzINICgwfmEdFpfG2L4HinGvmPIikwJEH5pCdme5DWs65Zi+ZSanGS1oXElDFll8vaaGk+ZLuqratj6Ttkr4XUzYy7L9Y0i0x5f0kTZe0SNJTktok670kWlZGOsf17+I3HTrnmr1k9kQeA0bGFkg6FRgFDDGzQ4F7qh0zjk8zFyIpHXgQOAc4BLhY0iFh86+AcWaWD2wGrkrCe0ia4fl5LN2wg6LNn6S6Kc45V29JCyJmNgXYVK34WuBOMysN+6yr2iBpNLAUmB+z/zHAYjNbama7iFLqjgr51k8Dngn7PQ6MTsobSRJfAsU51xI09pzIIGBEGIZ6Q9LRAJLaAz8Aflpt/57AipjXRaGsK1BsZuXVyuOSdLWkQkmF69c3jaXY8/fvwAGdsnjT50Wcc81YYweRDKAzcBxwM/B06FX8lGhoanu1/RWnDqulPC4ze9jMCsysIC8vr34tTzBJ9O6czb/nrabfLS9w4p2vMWn2ylQ3yznn9klGI5+vCJhoUUKNGZIqgVzgWOCCMNGeA1RK2gnMBHrHHN8LWAVsAHIkZYTeSFV5szFp9kreLdpCZQh9K4tLGDtxHgCjh9XYqXLOuSalsXsik4jmMpA0CGgDbDCzEWbW18z6AvcBvzSzB4B3gPxwJVYb4CLguRCEXgcuCPVeATzbuG+lYe6evJCyis92nkrKKrh78sIUtcg55/ZdMi/xfRKYBgyWVCTpKmA80D9c9jsBuMJqSfMXehljgMnAB8DTZlY18f4D4CZJi4nmSB5N1ntJhlXFJftU7pxzTVHShrPM7OIaNl1ax3G3VXv9IvBinP2WEl291Sz1yMlmZZyAkSZ4ds5KzjuiB9F0kXPONV1+x3qK3Hz2YLIz0z9T1iYjje77teXbE+bwxd/9j5kfVb9C2jnnmhYPIikyelhP7jj/cHrmZCOgZ042d31pCFO+fxp3XzCEVcUlfOmhaYz52yy/IdE512SplimJFqmgoMAKCwtT3Yw67Sgt5w9TlvLwlCVUGnx9eD+uPWUAHdtmprppzrlWSNJMMyuoXu49kSaqfVYGN505iNe+ewqfP7w7v/vvEk695788OeNjKipbV+B3zjVdHkSauB452Yy7cCiTrjuRvl3bM3biPD7/2zd5y+90d841AR5EmomhvXP4+zeP54FLhrG9tJyvPjKdrz/+DkvXV7/J3znnGo8HkWZEEucO6cErN53MD0YexNtLN3HWuCn89F/zKf5kV6qb55xrhXxivRlbv62UX7/8IU+98zEd22Zy4xn5XHrcgbwwdzV3T17IquISeuRkc/PZg30pFedcg9Q0se5BpAVYsGYrtz//AVMXbyCvQxu2lJSzq6Jy9/bszHTuOP9wDyTOuXqr19VZkjrVsq1PIhrmGu6gbp144qpjGH9lAZs/KftMAAFfk8s5lzx1zYn8t+qJpFerbZuU8Na4epPEaQcdUOPlv74ml3MuGeoKIrGLN3WpZZtrInrkZMctz2mXSWsbunTOJV9dQcRqeB7vtWsC4q3JJWDzJ2VcPn4GS/ySYOdcAtW1iu/+km4i+jtU9ZzwummkCHSfUTV5Hnt11nfPHMS20nLueWkhI++bwtUn9WfMqflkt0mvozbnnKtdrVdnSbq1toPNrHpO9CavJV6dtbfWbyvljhc/YOLslfTMyebWLxzCmYcc4EvOO+fq5Jf4Bq05iFSZvnQjP3l2PgvXbuPUwXn89LzD6NO1Xaqb5Zxrwup7ie83JOWH55I0XtIWSXMlDavj2PGS1oUshrHl10taKGl+yKmOpDMlzZQ0L/w8LWb/o0L5Ykm/VfjaLKmLpJclLQo/O+/9x9G6Hdu/K8/fMJz/9/mDmbFsE2eMe4P7XvmQnWUVqW6ac66ZqWti/dvA8vD8YuAIoD9wE/DbOo59DBgZWyDpVGAUMMTMDgXuCZs2AF8ws8OJ8qU/EXPYQ8DVQH54VNV5C/CqmeUDr4bXbi9lpqfx9RH9efW7p3DWIQdw3yuLOGvcFF5fsC7VTXPONSN1BZFyMysLz88F/mxmG83sFaB9bQea2RSgemq+a4E7zaw07LMu/JxtZqvCPvOBtpKyJHUHOpnZtJCL/c/A6LDfKODx8PzxmHK3D7rt15YHLjmSv379WDLTxf899g5X/7nQE2E55/ZKXUGkUlJ3SW2B04FXYrbFvyGhdoOAEZKmS3pD0tFx9vkSMDsEmp5AUcy2olAGcICZrQYIP/ev6aSSrpZUKKlw/fr19Wh2y3fiwFz+/e2T+P7Iwby5aANn/PoNHnx9MbvKK+s+2DnXatV1ie9PgEIgHXjOzOYDSDoZWFrP83UGjgOOBp6W1D/0MpB0KPAr4Kywf7zLhvb5SgAzexh4GKKJ9Xq0u1Vok5HGt04ZyKihPfnZv+Zz9+SF/GNWET877zA2bC/1RR2dc3uoK4isBY4HtpnZZkmXE/UU1hLNU+yrImBiCBozJFUCucB6Sb2AfwKXm9mSmP17xRzfC6ga9lorqbuZrQ7DXj6YnyA9c7L5w2UFvL5wHbc9N59LH51OuqAihN+VxSWMnTgPwAOJc61cXcNZfwC2hwByEnAn0bzEWuA39TjfJOA0AEmDgDbABkk5wAvAWDN7q2rnMEy1TdJx4aqsy4Fnw+bniCbhCT+ryl2CnDp4fybfeBId22bsDiBVfFFH5xzUHUTSzaxqcvxC4GEz+4eZ/RgYWNuBkp4EpgGDJRVJugoYD/QPl/1OAK4IvZIxob4fS5oTHlVzHNcCjwCLgSXAv0P5ncCZkhYBZ4bXLsHaZqazfWd53G2+qKNzrq7hrHRJGWZWTjSxHjuEVeuxZnZxDZsujbPv7cDtNdRTCBwWp3xjaJNLsh452ayMEzCqFnX0O96da73q6ok8Cbwh6VmgBHgTQNJAYEuS2+aaiHiLOqYpWtTxhglz2PJJWQ1HOudaurp6E78IeUS6Ay9VXUVFFHyuT3bjXNNQ06KOq7fuZNzLH1K4fBP3fuUIThiQm+KWOucam6+d5RpkblExN06Yw7KNO/jGiP5896xBZGX46sDOtTT1WjvLuboM6ZXD8zcM56vH9uHhKUsZ9cBbLFyzLdXNcs41Eg8irsHatcng9tGHM/7KAjZsL+ULD0xl/NRlVNaQqtc513J4EHEJc9pBB/CfG0/ipPxcfvb8+1zxpxms3bozJW2ZNHslJ975Gv1ueYET73yNSbNXpqQdzrV0HkRcQuV2yOKPlxfwyy8eTuHyzZx93xT+PW91o7Zh0uyVjJ04j5XFJRif3mHvgcS5xPMg4hJOEpcc24cXbhjOgV3ace1fZ/G9v7/Ltp2NcynwXZMXUFItN4rfYe9cctR1s6Fz9dY/rwPPXHsC97+6iAdeX8z0ZRsZ95WhFPTtktDzlFVUMrdoCzOWbWLGso2sKo4/hOZ32DuXeB5EXFJlpqdx01mDOXlwHjc+NYev/GEa1506kBtOzyczvX4d4Z1lFcxZUcz0pZuYsXwjsz4q3t3zGLh/B9q1SeeTXXtmaeye07ZB78U5tycPIq5RHHVgF168YQQ/+9f73P/aYqZ8uJ5xFw6lf16HOo/dUVrOrI83R0Fj2SbmrChmV0UlEhzUrRMXHt2bY/t14eh+XcjtkLV7TqT6kFbHtpkUf7KLnHZtkvU2nWt1/GZD1+henLeaH/5zHqVllZx7RHf+t3gDq4p37s5TcupB+1O4PAoYby/bxHsrt1BRaaSnicN6dOLY/l05pm8Xju7bhf3aZcY9x6TZKz9zh/2JA7syafYq9u+Uxe8vPYrDeu7XyO/aueatppsNPYi4lFizZSdXjJ/OwrXbP1MuPs061iY9jSN678cx/bpwbL+uHHlgZzpk1b/zPGdFMdf+ZSabduzil188nC8d1avug5xzQM1BxIezXEp0268t20r3XGLegI5tM3j4sgKG9cmhbWbillAZ2juHf10/nOv/Npvv/v1d5qwo5sfnHkKbDL9I0bn68t8elzKra7iKavvOco4f0DWhAaRKbocsnrjqGK45qT9PvP0RFz08jTVbUnNDpHMtQdKCiKTxktaFBFSx5ddLWihpvqS7YsrHSloctp0dUz4ylC2WdEtMeT9J0yUtkvSUJJ8tbWZ65GTvU3miZKSnMfZzB/PgJUeyYM02zr3/TaYv3ZjUczrXUiWzJ/IYMDK2QNKpwChgiJkdCtwTyg8BLgIODcf8TlK6pHTgQeAc4BDg4rAvwK+AcWaWD2wGrkrie3FJEC9PSXZmOjefPbhRzv/5Id159roT6dQ2k0semc6jU5fR2uYInWuopAURM5sCbKpWfC1wp5mVhn3WhfJRwAQzKzWzZUSpcI8Jj8VmttTMdhGl1B0V8q2fBjwTjn8cGJ2s9+KSY/Swntxx/uH0zMlGQM+cbO44//Dd+UsaQ/4BHXl2zImcftD+/Pz597lhwhw+2RU/HbBzbk+NPbE+CBgh6RfATuB7ZvYO0BN4O2a/olAGsKJa+bFAV6A4pO2tvr9rRkYP69moQSOejm0z+f2lR/HQG0u496WFfLhmG7+/7Cj65bZPabucaw4ae2I9A+gMHAfcDDwdehXxknRbPcrjknS1pEJJhevXr9/3VrsWLy1NXHfqQB7/2jGs27aT8+6fyivvr011s5xr8ho7iBQBEy0yA6gEckN575j9egGrainfAORIyqhWHpeZPWxmBWZWkJeXl7A341qeEfl5/Ov64RyY246v/7mQe19aSIXnRXGuRo0dRCYRzWUgaRDQhiggPAdcJClLUj8gH5gBvAPkhyux2hBNvj8Xcr2/DlwQ6u4Nh2UAABodSURBVL0CeLZR34lrsXp1bscz3zyBLx/Vi/tfW8zXHnuH4k92pbpZzjVJSZsTkfQkcAqQK6kIuBUYD4wPl/3uAq4IAWG+pKeB94Fy4Dozqwj1jAEmA+nAeDObH07xA2CCpNuB2cCjyXovrvVpm5nOXRcMYWifHG57bj5feGAqXynozYQZK3YvpXLz2YNTPp/jXKr5sifO1WH2x5u5YvwMtu787FVb2ZnpjX41mXOpUtOyJ37HunN1GNanM+3a7Nlp90RXznkQcW6v1JQr3hNdudbOg4hze6GmpVjSJJ4uXEF5RWUjt8i5psGDiHN7Id4SLW3S0+iR05bvPzOXs+6bwgtzV1PplwO7VsaDiHN7Id4SLXddMIQp3z+VP1x2FOkS1/1tFl94YCqvL1zna3C5VsOvznIuASoqjWfnrGTcKx+yYlMJx/TtwvfOHswx/bqkumnOJYRnNgw8iLhk2lVeyVPvfMxvX1vM+m2lnDI4j++dNdjT8bpmz4NI4EHENYaSXRU8Pm05D/13CVtKyvj84d256axBDMjrkOqmOVcvHkQCDyKuMW0pKePRN5fyyNRl7Cyr4IKjenHD6fn06twu1U1zbp94EAk8iLhU2LC9lN+9voS/vP0RAJcc24frTh1IXsesFLfMub3jQSTwIOJSaWVxCfe/uoi/zywiKyONr53Yjx6d2/Lga0t8TS7XpHkQCTyIuKZgyfrtjHv5Q56fu3qPbb4ml2uKfO0s55qQAXkdeOCSI+MOZ5WUVXDrc/OZvnQjWz4pS0HrnNt7jZ0e1zkXY8O20rjlW0rKuPDhKGN0j/3aclD3Tgzu1pGDunXk4O6d6Jfbnsx0/w7oUs+DiHMp1CMnm5VxFnHs1imLO740hAWrt7FgzVYWrtnGlA/XUx6WVWmTnsaA/TtwcLeOHNS9I4O7deLgbh3J65hFlHEaJs1eyd2TFyZ8riVZ9brmyYOIcyl089mDGTtxHiVlFbvLsjPTueWcgzl18P6cOnj/3eW7yitZsn47C9ZsZcGabSxYvY23lmxg4uyVu/fp0r4Ngw/oSGa6mLZ0I2UVUdBZWVzCLRPnYmZ88che9W7vpNkrP9PelcUljJ04D8ADSSuVtIl1SeOBc4F1ZnZYKLsN+AawPuz2QzN7UVIm8AhwJFFg+7OZ3RGOGQn8hiiz4SNmdmco7wdMALoAs4DLzKzOHKY+se6amoZ+s9+8Y1cUVNZsjXoua7cxd0UxNf1mZ2WkRY/M9E+fZ6STlRk9b7u7PPzM/PT5E29/xLZqybkgWkvsrVtOq+cn4JqDRr86S9JJwHaigBAbRLab2T3V9r0EOM/MLpLUjihN7inACuBD4EygiCjn+sVm9n5IpzvRzCZI+j3wrpk9VFe7PIi41qDfLS/UGESuObk/pWWVlJZXhJ/heXnlp+Xlobzs0+c7yyp2D6fF88pNJzMgr/3u4TTXstQURJI2nGVmUyT13dvdgfaSMoBsovzrW4FjgMVmthRA0gRglKQPgNOAS8LxjwO3AXUGEedag5rmWnrmZDP2nIPrXe8Jd77KquL4CbrO+PUbdN+vLScOzGVEfi4nDswlt4PfTNnSpWJOZIyky4FC4Ltmthl4BhgFrAbaAd8xs02SehL1RqoUAccCXYFiMyuPKa+x/y/pauBqgD59+iT47TjX9NQ013Lz2YMbVO/3zz4obr3fO3sQ7dpkMHXRBl75YC3PzCwC4KBuHRmRn8vw/DyO6duF7DbpNVXtmqnGDiIPAT8n6nn8HLgX+BpRj6MC6AF0Bt6U9AoQr19stZTHZWYPAw9DNJzVgPY71yxUzakk+iqquuq9+Jg+VFQa81dt4c1FG5i6aAOP/+8j/vjmMtqkp1HQt/PunsqhPfYjPS25V5K55EvqHethOOv5qjmRmrZJehB428yeCNvGA/8h6oXcZmZnh/Kx4fA7iSbnu5lZuaTjY/erjc+JONe4SnZVMGP5JqYuWs+bizawYM02AHLaZXLigFzaZaXz3JxVlJZ/mmLY79pvehp9TqSGRnQ3s6p1Hr4IvBeefwycJukvRMNZxwH3EU2w54crsVYCFwGXmJlJeh24gOgKrSuAZxvvnTjn9lZ2m3ROHpTHyYPyAFi/rZT/Ldmwu6eyZuuecywlZRXcPXmhB5FmIGlBRNKTRFdY5UoqAm4FTpE0lGjoaTlwTdj9QeBPREFFwJ/MbG6oZwwwmegS3/FmNj8c8wNggqTbgdnAo8l6L865xMnrmMWooT0ZNbQnZkb/sS/GHYteFefCANf0JPPqrIvjFMf9Q29m24Ev17DtReDFOOVLieZSnHPNlKQaryTrkZOdgha5feWL7zjnUurmsweTnbnnVVsnDOyagta4feVBxDmXUqOH9eSO8w+nZ042AnrktOXgbh2ZOGslUxdtSHXzXB08n4hzrsnZtrOMCx6axqotJfzzWycwcP+OqW5Sq+f5RJxzzUbHtpk8emVBlP3xsUI27ahzWTyXIh5EnHNNUq/O7Xj48gLWbN3JNU8UUlpeUfdBrtF5EHHONVlH9unMvV8+gneWb2bsP+bR2obfmwPPJ+Kca9K+cEQPlm3Ywa9f/pD+ee0Zc1p+qpvkYngQcc41edefNpBlG3Zwz0sf0je3PecO6ZHqJrnAh7Occ02eJO780uEUHNiZ7z79LrM/3pzqJrnAg4hzrlnIykjnD5cdxf6dsvjGn2dStPmTVDfJ4UHEOdeMdO2Qxfgrjqa0rIKvP17I9tI9U/W6xuVBxDnXrOQf0JHfXXoki9Zt54YnZ1NRS8pel3weRJxzzc6I/Dx+et6hvLZgHbe/8H6qm9Oq+dVZzrlm6dLjDmTp+h2Mf2sZ/fM6cNlxB6a6Sa2SBxHnXLP1o88fzEcbd3Dbc/Pp06Xd7sRXrvH4cJZzrtlKTxO/uXgY+ft3YMxfZ/Hh2m2Nct5Js1dy4p2v0e+WFzjxzteYNHtlo5y3KUpaEJE0XtI6Se/FlN0maaWkOeHxuZhtQyRNkzRf0jxJbUP5UeH1Ykm/laRQ3kXSy5IWhZ+dk/VenHNNV4esDB698miyMtP52mPvsHF7aVLPN2n2SsZOnMfK4hIMWFlcwtiJ81ptIElmT+QxYGSc8nFmNjQ8XgSQlAH8BfimmR1KlFa3LOz/EHA1kB8eVXXeArxqZvnAq+G1c64V6pmTzSNXFLB+WylXPzGTnWXJW6zx7skLKalWf1VO+NYoaUHEzKYAm/Zy97OAuWb2bjh2o5lVSOoOdDKzaRatvPZnYHQ4ZhTweHj+eEy5c64VGto7h3EXDmXmR5v5wT/mJnSxxuJPdvGf99Zw23Pz46byhdabEz4VE+tjJF0OFALfNbPNwCDAJE0G8oAJZnYX0BMoijm2KJQBHGBmqwHMbLWk/Ws6oaSriXoz9OnTJ9HvxznXRHzu8O7cfPZg7p68kP65Hfj2GfVbrHFLSRkzlm1i2pKNTFu6kQVrtmIG2ZnpZGWkUVpeuccxrTUnfGMHkYeAnwMWft4LfC20YzhwNPAJ8KqkmcDWOHXs89cLM3sYeBiizIb1arlzrln41ikDWLp+B+Ne+ZB+ee0574i6F2vctrOMd5ZHQePtpZuYv2oLlQZZGWkcdWBnbjpjEMcP6MqQXjm8OG81YyfO22NI68oT+ibpHTVtjRpEzGxt1XNJfwSeDy+LgDfMbEPY9iJwJNE8Sa+YKnoBq8LztZK6h15Id2BdstvvnGv6JPHL8w9jxaZP+M6E2fzsX++zcXspPXKyufnswYwe1pMdpeW8s3wTby/dxLSlG3lv5RYqKo026WkM65PDDafnc3z/rgztk0NWRvpn6h89LBoMuXvyQlYVl5DXMYsdpeX86a1ljDysG727tEvF206ZpOZYl9QXeN7MDguvu1cNQUn6DnCsmV0Urqx6lag3sgv4D9EE/AuS3gGuB6YDLwL3m9mLku4GNprZnZJuAbqY2ffrapPnWHeudfjL2x/x40nvfWboIiNN9Mxpy8rinZRXGpnpYmjvHI7v35XjBnTlyD6daZuZXmOdNXl/1VYu/uPbdMrO4Olrjqf7fi1vaKumHOtJCyKSniS6yioXWAvcGl4PJRqSWg5cExNULgXGhm0vVgUESQVEV3plA/8Grjczk9QVeBroA3wMfNnM6pzI9yDiXOtw4p2vxZ0Ez0wXV5/Un+P753LkgTm0a5OYAZl3VxRz6SPTyeuYxVPXHE9ex6yE1NtUNHoQaao8iDjXOvS75YW4E6gClt35+aScs3D5Ji57dAZ9urTjyauPo0v7Nkk5TyrUFET8jnXnXItU09VSybyKqqBvFx69ooBlG3dw+fjpbCkpq/ugJEv23fUeRJxzLdLNZw8mu9r8RnZmOjefPTip5z1hYC5/uOwoFq7ZxpV/mpHSnCeNcXe9BxHnXIs0elhP7jj/cHrmZCOiu9rvOP/w3VdXJdOpg/fn/ouPZG7RFq567B1KdiXvDvraNMbd9b6Kr3OuxRo9rGejBI14Rh7WjV9/5QhufGoOVz9RyB8vL6jXlV8N0Rh313tPxDnnkmTU0J786ktDeHPRBsb8bRa74tzpngyrt5Rw3d9m1bg9kfNCHkSccy6JvlLQm5+POpRXPljHd56aQ3lF8gLJrvJKfv/GEk6/9w1eeX8tIw/tRtvMz/6ZT/S8kA9nOedckl12fF9Kyyu5/YUPyMpI454vH0FamhJ6jqmLNnDrc++xZP0Ozjj4AG79wiH07tKOSbNX7r67Pvau/UTxIOKcc43g6yP6U7Krgntf/pCszDR++cXDCemRGmT1lhJuf+EDXpi7mj5d2jH+ygJOO+iA3duTPS/kQcQ55xrJ9afns7O8ggdfX0JWRjq3fuGQegeSXeWVjH9rGb99dREVlcZ3zhjENSf3b/TJew8izjnXiL531mBKdkUBoG1mOj8YOXifA0lNQ1ep4EHEOecakSR+fO7BlJZX8Ps3lpCdmb7XeU9Wbynh9uc/4IV58YeuUsGDiHPONTJJ/HzUYewsq2TcKx/SNjONa04eUOP+1YeubjpzEFef1PhDV/F4EHHOuRRISxN3XTCE0vIK7vj3AtpmpnNFnMRWsUNXZx5yAD85N3VDV/F4EHHOuRRJTxPjLhxKaXkltz43n/dXbWHq4o2sKi7hgE5ZdOvUljlFW5rM0FU8HkSccy6FMtPTeOCSYZz3wFs8VVi0u3zN1lLWbC3lnMO6Me7CoU1i6CqepN2xLmm8pHWS3ospu03SSklzwuNz1Y7pI2m7pO/FlI2UtFDS4pDBsKq8n6TpkhZJekpSy1m43znXqmRlpLOthmXj5xZtabIBBJK77MljwMg45ePMbGh4vFh9G1H2QgAkpQMPAucAhwAXSzokbP5VqCsf2AxcleD2O+dco1m9ZWfc8kQulpgMSQsiZjYFqDNdbRVJo4GlwPyY4mOAxWa21Mx2AROAUYouqj4NeCbs9zgwOiENd865FEhFEq1ESMUCjGMkzQ3DXZ0BJLUHfgD8tNq+PYEVMa+LQllXoNjMyquVxyXpakmFkgrXr1+fqPfhnHMJk6okWg3V2EHkIWAAMBRYDdwbyn9KNDS1vdr+8W7jtFrK4zKzh82swMwK8vLy9r3VzjmXZKlMotUQjXp1lpmtrXou6Y/A8+HlscAFku4CcoBKSTuBmUDvmCp6AauADUCOpIzQG6kqd865ZiuVSbTqq1GDiKTuZrY6vPwi8B6AmY2I2ec2YLuZPSApA8iX1A9YCVwEXGJmJul14AKieZIrgGcb750455yDJAYRSU8CpwC5koqAW4FTJA0lGnpaDlxTWx1mVi5pDDAZSAfGm1nVxPsPgAmSbgdmA48m430455yrmcxqnEpokQoKCqywsDDVzXDOuWZF0kwzK6he7ulxnXPO1ZsHEeecc/XW6oazJK0HPqrn4blEV4YlWnOqtzm1NVn1Nqe2Nrd6m1Nbm1u9Da3zQDPb4x6JVhdEGkJSYbwxwdZUb3Nqa7LqbU5tbW71Nqe2Nrd6k9VWH85yzjlXbx5EnHPO1ZsHkX3zsNfbrNqarHqbU1ubW73Nqa3Nrd6ktNXnRJxzztWb90Scc87VmwcR55xz9eZBZC/ES/WbgDp7S3pd0geS5kv6doLqbStphqR3Q73Vc7Q0tP50SbMlPV/33ntd53JJ80LK5ISsSSMpR9IzkhaEz/j4BNQ5OCa18xxJWyXdmKD2fif8e70n6UlJbRNQ57dDffMb2s4a0l13kfRySFH9clV+oAbW+eXQ3kpJ9boctYZ67w7/F+ZK+qeknATV+/NQ5xxJL0nq0dA6Y7Z9T5JJyk1QW2tNT15vZuaPOh7AScCRwHsJrLM7cGR43hH4EDgkAfUK6BCeZwLTgeMS2O6bgL8BzyewzuVAboL/zR4Hvh6etwFyElx/OrCG6AashtbVE1gGZIfXTwNXNrDOw4hWyW5HtNDqK0B+A+rb43cAuAu4JTy/BfhVAuo8GBgM/BcoSGBbzwIywvNf7Wtba6m3U8zzG4DfN7TOUN6baOHZj+rzu1FDW28DvtfQ/6/VH94T2Qu2j6l+97LO1WY2KzzfBnxALdkZ96Fes0+Te2WGR0KunpDUC/g88Egi6ksWSZ2IfokeBTCzXWZWnODTnA4sMbP6rn5QXQaQHdIftKPh+XEOBt42s08syrnzBlH6hXqp4XdgFFGwhnqkqI5Xp5l9YGYL69vOWup9yT7NhPo2UQ6iRNS7NeZle/bxd62Wvy3jgO/va317UW/CeRBpAiT1BYYR9RoSUV+6pDnAOuBlM0tIvcB9RP+xKxNUXxUDXpI0U9LVCaivP7Ae+FMYentEUQrmRLoIeDIRFZnZSuAe4GOijJ9bzOylBlb7HnCSpK6S2gGf47MJ3hLhAAv5gcLP/RNcf7J8Dfh3oiqT9AtJK4CvAj9JQH3nASvN7N0GN25Pe6QnbygPIikmqQPwD+DGat9q6s3MKsxsKNG3rWMkHdbQOiWdC6wzs5kNbuCeTjSzI4FzgOskndTA+jKIuvIPmdkwYAfRcEtCSGoDnAf8PUH1dSb6Vt8P6AG0l3RpQ+o0sw+Ihm1eBv4DvAuU13pQKyDpR0Sfw18TVaeZ/cjMeoc6xzSkrhDwf0QCglEcNaUnbxAPIikkKZMogPzVzCYmuv4whPNfYGQCqjsROE/ScqJskqdJ+ksC6sXMVoWf64B/Asc0sMoioCimB/YMUVBJlHOAWRaT7rmBzgCWmdl6MysDJgInNLRSM3vUzI40s5OIhjYWNbTOatZK6g5R1lKinm+TJekK4FzgqxYmCRLsb8CXGljHAKIvE++G37VewCxJ3RpYL2a2NnzBrAT+SMN/zwAPIikjSURj9h+Y2a8TWG9e1ZUnkrKJ/kAtaGi9ZjbWzHqZWV+ioZzXzKxB35YBJLWX1LHqOdEEaIOugjOzNcAKSYND0enA+w1q6GddTIKGsoKPgeMktQv/L04nmiNrEEn7h599gPNJbJsBniNKTQ1NPEW1pJFE2VDPM7NPElhvfszL82jg75qZzTOz/c2sb/hdKyK6AGdNQ+qF3YG+yu705A2W6Jn6lvgg+uVbDZQR/aNelYA6hxPNBcwF5oTH5xJQ7xCidMFzw3+SnyTh8ziFBF2dRTR/8W54zAd+lKB6hwKF4XOYBHROUL3tgI3Afgn+TH9K9AfoPeAJICsBdb5JFDzfBU5vYF17/A4AXYFXiXo4rwJdElDnF8PzUmAtMDlBbV0MrIj5Xdunq6hqqfcf4d9sLvAvoGdD66y2fTn1uzorXlufAOaFtj4HdE/E/11f9sQ551y9+XCWc865evMg4pxzrt48iDjnnKs3DyLOOefqzYOIc865evMg4lolSd0kTZC0RNL7kl6UNEhS33grqu5lnVfu6yquNdRzjqTCsPrwAkn31LOeHEnfamh7nKuNBxHX6oQb+v4J/NfMBpjZIcAPgQMaWPWVRMuW7EtbMqq9Pgx4ALjUzA4mWo13aT3bkwPsUxBRxP8uuL3m/1lca3QqUGZmv68qMLM5ZvZm7E6hZ/FAzOvnJZ0SFrh8TFGujnmKcoFcABQAfw25GrIlHSXpjbCw5OSYJUL+K+mXkt4AqueR+T7wCzNbENpVbma/C8flSfqHpHfC48RQfltYUO+/kpZKuiHUdScwILTn7rDvzeHYuQq5ZkLv6wNJvwNmAb2rv7/EfOyuJcqoexfnWpzDgIYsJDmU6M7kwyAaNjKzYkljiPI1FIZ10e4HRpnZekkXAr8gWkEWovwmJ9fQtpoWxvsNMM7MpoalTCYTLfkOcBBRcOwILJT0ENGik4dZtBgnks4C8onWTBLwXFjs8mOiHB7/Z2bfknRU9fdXr0/JtQoeRJzbd0uB/pLuB14A4i3bPpgoILwcjZ6RTrQMRZWn6nHeM4BDQn0AnarWHQNeMLNSoFTSOuIPzZ0VHrPD6w5EQeVj4CMzezuU7837cw7wIOJap/nABXuxXzmfHfJtC2BmmyUdAZwNXAd8hU97GFUEzDezmtLy7qilbUcRrXdVXRpwvJmVfOZEUVApjSmqIP7vtoA7zOwP1Y7vG9uevXx/zgE+J+Jap9eALEnfqCqQdLSk6sNLy4GhktIk9SYsna0o53Wamf0D+DGfLjO/jWg4CWAhkKeQ211SpqRD96JtdwM/lDQoHJcm6aaw7SVi8lVIGlpHXbHtgWj462uKctggqWfVSr+xanl/zu3BeyKu1TEzk/RF4D5JtwA7iQLGjdV2fYso9/k8opVaZ4XynkRZE6u+hI0NPx8Dfi+pBDieqLfzW0n7Ef2u3UfU06itbXMl3Qg8qShBkRENKUGUw/tBSXNDfVOAb9ZS10ZJb4VLlv9tZjdLOhiYFnov24FLiXousWp6f87twVfxdc45V28+nOWcc67ePIg455yrNw8izjnn6s2DiHPOuXrzIOKcc67ePIg455yrNw8izjnn6u3/A4KGFlS+ZNwhAAAAAElFTkSuQmCC\n",
      "text/plain": [
       "<Figure size 432x288 with 1 Axes>"
      ]
     },
     "metadata": {
      "needs_background": "light"
     },
     "output_type": "display_data"
    }
   ],
   "source": [
    "find_optimal_clusters(text, 15)"
   ]
  },
  {
   "cell_type": "code",
   "execution_count": 13,
   "metadata": {},
   "outputs": [],
   "source": [
    "clusters = MiniBatchKMeans(n_clusters=12, init_size= 200, batch_size=400, random_state=0).fit_predict(text)"
   ]
  },
  {
   "cell_type": "code",
   "execution_count": 14,
   "metadata": {},
   "outputs": [
    {
     "data": {
      "image/png": "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\n",
      "text/plain": [
       "<Figure size 1008x432 with 2 Axes>"
      ]
     },
     "metadata": {
      "needs_background": "light"
     },
     "output_type": "display_data"
    }
   ],
   "source": [
    "def plot_tsne_pca(dataframe1, labels):\n",
    "    max_label = max(labels)\n",
    "    max_items = np.random.choice(range(dataframe1.shape[0]), size=10000, replace=False)\n",
    "    \n",
    "    pca = PCA(n_components=2).fit_transform(dataframe1[max_items,:].todense())\n",
    "    tsne = TSNE().fit_transform(PCA(n_components=50).fit_transform(dataframe1[max_items,:].todense()))    \n",
    "    \n",
    "    idx = np.random.choice(range(pca.shape[0]), size=300, replace=False)\n",
    "    label_subset = labels[max_items]\n",
    "    label_subset = [cm.hsv(i/max_label) for i in label_subset[idx]]\n",
    "    \n",
    "    f, ax = plt.subplots(1, 2, figsize=(14, 6))\n",
    "    \n",
    "    ax[0].scatter(pca[idx, 0], pca[idx, 1], c=label_subset)\n",
    "    ax[0].set_title('PCA Cluster Plot')\n",
    "    \n",
    "    ax[1].scatter(tsne[idx, 0], tsne[idx, 1], c=label_subset)\n",
    "    ax[1].set_title('TSNE Cluster Plot')\n",
    "    \n",
    "plot_tsne_pca(text, clusters)"
   ]
  },
  {
   "cell_type": "code",
   "execution_count": 19,
   "metadata": {},
   "outputs": [],
   "source": [
    "# Actual LDA model\n",
    "lda_model = gensim.models.LdaMulticore(corpus=corpus_final,\n",
    "                                       id2word=id2word,\n",
    "                                       num_topics=12, \n",
    "                                       random_state=100,\n",
    "                                       chunksize=100,\n",
    "                                       passes=10,\n",
    "                                       per_word_topics=True)\n",
    "\n",
    "\n",
    "# Compute Coherence Score\n",
    "coherence_model_lda = CoherenceModel(model=lda_model, texts=texts, dictionary=id2word, coherence='c_v')"
   ]
  },
  {
   "cell_type": "code",
   "execution_count": 20,
   "metadata": {},
   "outputs": [
    {
     "name": "stdout",
     "output_type": "stream",
     "text": [
      "[(0,\n",
      "  '0.013*\"management\" + 0.009*\"process\" + 0.008*\"information\" + '\n",
      "  '0.007*\"provide\" + 0.006*\"customer\" + 0.006*\"security\" + 0.006*\"complex\" + '\n",
      "  '0.005*\"level\" + 0.005*\"program\" + 0.005*\"risk\"'),\n",
      " (1,\n",
      "  '0.010*\"duty\" + 0.009*\"time\" + 0.009*\"position\" + 0.008*\"must\" + '\n",
      "  '0.008*\"employee\" + 0.007*\"function\" + 0.007*\"perform\" + 0.006*\"may\" + '\n",
      "  '0.006*\"essential\" + 0.006*\"company\"'),\n",
      " (2,\n",
      "  '0.012*\"product\" + 0.008*\"people\" + 0.008*\"world\" + 0.008*\"company\" + '\n",
      "  '0.008*\"customer\" + 0.007*\"help\" + 0.006*\"u\" + 0.006*\"make\" + 0.005*\"client\" '\n",
      "  '+ 0.005*\"role\"'),\n",
      " (3,\n",
      "  '0.021*\"marketing\" + 0.012*\"product\" + 0.012*\"customer\" + 0.011*\"sale\" + '\n",
      "  '0.010*\"test\" + 0.010*\"global\" + 0.010*\"programming\" + 0.009*\"database\" + '\n",
      "  '0.009*\"brand\" + 0.008*\"analyze\"'),\n",
      " (4,\n",
      "  '0.018*\"please\" + 0.013*\"position\" + 0.013*\"apply\" + 0.012*\"company\" + '\n",
      "  '0.011*\"location\" + 0.011*\"industry\" + 0.010*\"today\" + 0.010*\"looking\" + '\n",
      "  '0.010*\"u\" + 0.009*\"time\"'),\n",
      " (5,\n",
      "  '0.024*\"learning\" + 0.020*\"analytics\" + 0.020*\"model\" + 0.019*\"machine\" + '\n",
      "  '0.017*\"scientist\" + 0.014*\"statistical\" + 0.010*\"modeling\" + 0.009*\"python\" '\n",
      "  '+ 0.009*\"statistic\" + 0.009*\"technique\"'),\n",
      " (6,\n",
      "  '0.017*\"java\" + 0.014*\"test\" + 0.014*\"developer\" + 0.012*\"web\" + 0.011*\"c\" + '\n",
      "  '0.011*\"cloud\" + 0.011*\"product\" + 0.010*\"agile\" + 0.009*\"code\" + '\n",
      "  '0.009*\"etc\"'),\n",
      " (7,\n",
      "  '0.029*\"status\" + 0.018*\"gender\" + 0.018*\"disability\" + 0.017*\"protected\" + '\n",
      "  '0.017*\"employment\" + 0.016*\"veteran\" + 0.016*\"national\" + 0.015*\"race\" + '\n",
      "  '0.015*\"religion\" + 0.015*\"origin\"'),\n",
      " (8,\n",
      "  '0.012*\"research\" + 0.012*\"position\" + 0.011*\"information\" + 0.010*\"health\" '\n",
      "  '+ 0.008*\"clinical\" + 0.006*\"applicant\" + 0.006*\"employee\" + '\n",
      "  '0.006*\"qualification\" + 0.005*\"education\" + 0.005*\"may\"'),\n",
      " (9,\n",
      "  '0.017*\"developer\" + 0.017*\"net\" + 0.015*\"web\" + 0.012*\"code\" + '\n",
      "  '0.010*\"server\" + 0.009*\"c\" + 0.008*\"microsoft\" + 0.006*\"user\" + '\n",
      "  '0.006*\"testing\" + 0.006*\"javascript\"'),\n",
      " (10,\n",
      "  '0.020*\"benefit\" + 0.012*\"employee\" + 0.012*\"company\" + 0.010*\"insurance\" + '\n",
      "  '0.010*\"paid\" + 0.008*\"program\" + 0.008*\"dental\" + 0.008*\"offer\" + '\n",
      "  '0.007*\"life\" + 0.007*\"product\"'),\n",
      " (11,\n",
      "  '0.018*\"aws\" + 0.015*\"insurance\" + 0.010*\"general\" + 0.009*\"azure\" + '\n",
      "  '0.009*\"national\" + 0.009*\"organization\" + 0.008*\"office\" + 0.008*\"frank\" + '\n",
      "  '0.007*\"recruitment\" + 0.007*\"company\"')]\n"
     ]
    }
   ],
   "source": [
    "from pprint import pprint\n",
    "# Print the Keyword in the 10 topics\n",
    "pprint(lda_model.print_topics())\n",
    "doc_lda = lda_model[corpus_final]"
   ]
  },
  {
   "cell_type": "code",
   "execution_count": 21,
   "metadata": {},
   "outputs": [
    {
     "name": "stdout",
     "output_type": "stream",
     "text": [
      "Done: 5.0%\n",
      "Done: 10.0%\n",
      "Done: 15.0%\n",
      "Done: 20.0%\n",
      "Done: 25.0%\n",
      "Done: 30.0%\n",
      "Done: 35.0%\n",
      "Done: 40.0%\n",
      "Done: 45.0%\n",
      "Done: 50.0%\n",
      "Done: 55.00000000000001%\n",
      "Done: 60.0%\n",
      "Done: 65.0%\n",
      "Done: 70.0%\n",
      "Done: 75.0%\n",
      "Done: 80.0%\n",
      "Done: 85.0%\n",
      "Done: 90.0%\n",
      "Done: 95.0%\n",
      "Done: 100.0%\n"
     ]
    }
   ],
   "source": [
    "topics_list = []\n",
    "count = 0\n",
    "for document in corpus_final:\n",
    "    count = count+1\n",
    "    topics = lda_model[document]\n",
    "    topics_list.append(topics[0])\n",
    "    if(count%1000 == 0):\n",
    "        print(\"Done: \" + str(count / len(corpus_final) * 100) + \"%\")"
   ]
  },
  {
   "cell_type": "code",
   "execution_count": 22,
   "metadata": {},
   "outputs": [
    {
     "data": {
      "text/html": [
       "<div>\n",
       "<style scoped>\n",
       "    .dataframe tbody tr th:only-of-type {\n",
       "        vertical-align: middle;\n",
       "    }\n",
       "\n",
       "    .dataframe tbody tr th {\n",
       "        vertical-align: top;\n",
       "    }\n",
       "\n",
       "    .dataframe thead th {\n",
       "        text-align: right;\n",
       "    }\n",
       "</style>\n",
       "<table border=\"1\" class=\"dataframe\">\n",
       "  <thead>\n",
       "    <tr style=\"text-align: right;\">\n",
       "      <th></th>\n",
       "      <th>Unnamed: 0</th>\n",
       "      <th>job_title</th>\n",
       "      <th>category</th>\n",
       "      <th>company_name</th>\n",
       "      <th>inferred_city</th>\n",
       "      <th>inferred_state</th>\n",
       "      <th>inferred_country</th>\n",
       "      <th>job_description</th>\n",
       "      <th>job_type</th>\n",
       "      <th>Topics</th>\n",
       "    </tr>\n",
       "  </thead>\n",
       "  <tbody>\n",
       "    <tr>\n",
       "      <th>0</th>\n",
       "      <td>0</td>\n",
       "      <td>Sr. Software Developer</td>\n",
       "      <td>architecture and engineering</td>\n",
       "      <td>Aerotek</td>\n",
       "      <td>Raleigh</td>\n",
       "      <td>North carolina</td>\n",
       "      <td>Usa</td>\n",
       "      <td>The chosen Sr. Software Developer will be part...</td>\n",
       "      <td>Full Time</td>\n",
       "      <td>[(0, 0.056590497), (1, 0.060106706), (4, 0.433...</td>\n",
       "    </tr>\n",
       "    <tr>\n",
       "      <th>1</th>\n",
       "      <td>1</td>\n",
       "      <td>C# Lead Software Developer</td>\n",
       "      <td>NaN</td>\n",
       "      <td>3coast</td>\n",
       "      <td>Middletown</td>\n",
       "      <td>New jersey</td>\n",
       "      <td>Usa</td>\n",
       "      <td>Position:     C# Lead Software Developer Locat...</td>\n",
       "      <td>Full Time</td>\n",
       "      <td>[(0, 0.09232563), (4, 0.2064691), (6, 0.023615...</td>\n",
       "    </tr>\n",
       "    <tr>\n",
       "      <th>2</th>\n",
       "      <td>2</td>\n",
       "      <td>Senior Software Developer</td>\n",
       "      <td>NaN</td>\n",
       "      <td>s.com</td>\n",
       "      <td>Hoboken</td>\n",
       "      <td>New jersey</td>\n",
       "      <td>Usa</td>\n",
       "      <td>Senior Software Developer Hoboken, NJ Starts a...</td>\n",
       "      <td>Contract</td>\n",
       "      <td>[(1, 0.06585636), (2, 0.039510842), (4, 0.2615...</td>\n",
       "    </tr>\n",
       "    <tr>\n",
       "      <th>3</th>\n",
       "      <td>3</td>\n",
       "      <td>Senior Software Developer</td>\n",
       "      <td>NaN</td>\n",
       "      <td>Mitchell Martin, Inc.</td>\n",
       "      <td>Hoboken</td>\n",
       "      <td>New jersey</td>\n",
       "      <td>Usa</td>\n",
       "      <td>Our client, a multinational publishing and edu...</td>\n",
       "      <td>Contract</td>\n",
       "      <td>[(2, 0.09254527), (6, 0.16765913), (9, 0.73321...</td>\n",
       "    </tr>\n",
       "    <tr>\n",
       "      <th>4</th>\n",
       "      <td>4</td>\n",
       "      <td>C# Lead Software Developer</td>\n",
       "      <td>NaN</td>\n",
       "      <td>3coast</td>\n",
       "      <td>Philadelphia</td>\n",
       "      <td>Pennsylvania</td>\n",
       "      <td>Usa</td>\n",
       "      <td>Position:     C# Lead Software Developer Locat...</td>\n",
       "      <td>Full Time</td>\n",
       "      <td>[(0, 0.09614014), (4, 0.21714726), (6, 0.02296...</td>\n",
       "    </tr>\n",
       "  </tbody>\n",
       "</table>\n",
       "</div>"
      ],
      "text/plain": [
       "   Unnamed: 0                   job_title                      category  \\\n",
       "0           0      Sr. Software Developer  architecture and engineering   \n",
       "1           1  C# Lead Software Developer                           NaN   \n",
       "2           2   Senior Software Developer                           NaN   \n",
       "3           3   Senior Software Developer                           NaN   \n",
       "4           4  C# Lead Software Developer                           NaN   \n",
       "\n",
       "            company_name inferred_city  inferred_state inferred_country  \\\n",
       "0                Aerotek       Raleigh  North carolina              Usa   \n",
       "1                 3coast    Middletown      New jersey              Usa   \n",
       "2                  s.com       Hoboken      New jersey              Usa   \n",
       "3  Mitchell Martin, Inc.       Hoboken      New jersey              Usa   \n",
       "4                 3coast  Philadelphia    Pennsylvania              Usa   \n",
       "\n",
       "                                     job_description   job_type  \\\n",
       "0  The chosen Sr. Software Developer will be part...  Full Time   \n",
       "1  Position:     C# Lead Software Developer Locat...  Full Time   \n",
       "2  Senior Software Developer Hoboken, NJ Starts a...   Contract   \n",
       "3  Our client, a multinational publishing and edu...   Contract   \n",
       "4  Position:     C# Lead Software Developer Locat...  Full Time   \n",
       "\n",
       "                                              Topics  \n",
       "0  [(0, 0.056590497), (1, 0.060106706), (4, 0.433...  \n",
       "1  [(0, 0.09232563), (4, 0.2064691), (6, 0.023615...  \n",
       "2  [(1, 0.06585636), (2, 0.039510842), (4, 0.2615...  \n",
       "3  [(2, 0.09254527), (6, 0.16765913), (9, 0.73321...  \n",
       "4  [(0, 0.09614014), (4, 0.21714726), (6, 0.02296...  "
      ]
     },
     "execution_count": 22,
     "metadata": {},
     "output_type": "execute_result"
    }
   ],
   "source": [
    "jobs['Topics'] = topics_list\n",
    "jobs.head()"
   ]
  },
  {
   "cell_type": "code",
   "execution_count": 93,
   "metadata": {},
   "outputs": [],
   "source": [
    "resumes = resumes.drop(columns=['Unnamed: 0'])\n",
    "resumes.head()\n",
    "resume = resumes.iloc[0]['resumes']"
   ]
  },
  {
   "cell_type": "code",
   "execution_count": 94,
   "metadata": {},
   "outputs": [],
   "source": [
    "resume = remove_punc(resume)\n",
    "resume = tokenization(resume)\n",
    "resume = remove_stopwords(resume)\n",
    "resume = lemmization(resume)"
   ]
  },
  {
   "cell_type": "code",
   "execution_count": 95,
   "metadata": {},
   "outputs": [],
   "source": [
    "resume, _ , _ = TokenizeLemm(resume)\n",
    "resume_topics = lda_model[resume]"
   ]
  },
  {
   "cell_type": "code",
   "execution_count": 91,
   "metadata": {},
   "outputs": [
    {
     "name": "stdout",
     "output_type": "stream",
     "text": [
      "<gensim.interfaces.TransformedCorpus object at 0x0000027A98B28B48>\n"
     ]
    }
   ],
   "source": [
    "print(resume_topics)"
   ]
  },
  {
   "cell_type": "code",
   "execution_count": null,
   "metadata": {},
   "outputs": [],
   "source": []
  }
 ],
 "metadata": {
  "interpreter": {
   "hash": "aee8b7b246df8f9039afb4144a1f6fd8d2ca17a180786b69acc140d282b71a49"
  },
  "kernelspec": {
   "display_name": "Python 3",
   "language": "python",
   "name": "python3"
  },
  "language_info": {
   "codemirror_mode": {
    "name": "ipython",
    "version": 3
   },
   "file_extension": ".py",
   "mimetype": "text/x-python",
   "name": "python",
   "nbconvert_exporter": "python",
   "pygments_lexer": "ipython3",
   "version": "3.7.6"
  }
 },
 "nbformat": 4,
 "nbformat_minor": 2
}
diff --git a/training.py b/training.py
