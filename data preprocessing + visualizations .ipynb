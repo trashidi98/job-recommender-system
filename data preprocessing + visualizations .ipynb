{
 "cells": [
  {
   "cell_type": "code",
   "execution_count": 1,
   "id": "2663021b",
   "metadata": {},
   "outputs": [
    {
     "name": "stderr",
     "output_type": "stream",
     "text": [
      "[nltk_data] Downloading package stopwords to\n",
      "[nltk_data]     C:\\Users\\shahb\\AppData\\Roaming\\nltk_data...\n",
      "[nltk_data]   Package stopwords is already up-to-date!\n",
      "[nltk_data] Downloading package wordnet to\n",
      "[nltk_data]     C:\\Users\\shahb\\AppData\\Roaming\\nltk_data...\n",
      "[nltk_data]   Package wordnet is already up-to-date!\n"
     ]
    }
   ],
   "source": [
    "import pandas as pd\n",
    "import string\n",
    "import nltk\n",
    "import re\n",
    "import unidecode\n",
    "from nltk.stem import WordNetLemmatizer\n",
    "from nltk.tokenize import RegexpTokenizer\n",
    "from nltk.corpus import stopwords\n",
    "nltk.download('stopwords')\n",
    "stopwords = nltk.corpus.stopwords.words('english')\n",
    "from nltk.stem import WordNetLemmatizer\n",
    "nltk.download('wordnet')\n",
    "from gensim.models import Phrases"
   ]
  },
  {
   "cell_type": "code",
   "execution_count": 5,
   "id": "a760c449",
   "metadata": {},
   "outputs": [
    {
     "data": {
      "text/html": [
       "<div>\n",
       "<style scoped>\n",
       "    .dataframe tbody tr th:only-of-type {\n",
       "        vertical-align: middle;\n",
       "    }\n",
       "\n",
       "    .dataframe tbody tr th {\n",
       "        vertical-align: top;\n",
       "    }\n",
       "\n",
       "    .dataframe thead th {\n",
       "        text-align: right;\n",
       "    }\n",
       "</style>\n",
       "<table border=\"1\" class=\"dataframe\">\n",
       "  <thead>\n",
       "    <tr style=\"text-align: right;\">\n",
       "      <th></th>\n",
       "      <th>Category</th>\n",
       "      <th>cleaned_resume</th>\n",
       "    </tr>\n",
       "  </thead>\n",
       "  <tbody>\n",
       "    <tr>\n",
       "      <th>0</th>\n",
       "      <td>Data Science</td>\n",
       "      <td>[skill    programming language   p thon  panda...</td>\n",
       "    </tr>\n",
       "    <tr>\n",
       "      <th>1</th>\n",
       "      <td>Data Science</td>\n",
       "      <td>[education detail    ma  2013 to ma  2017 b e ...</td>\n",
       "    </tr>\n",
       "    <tr>\n",
       "      <th>2</th>\n",
       "      <td>Data Science</td>\n",
       "      <td>[area  of intere t deep learning  control s  t...</td>\n",
       "    </tr>\n",
       "    <tr>\n",
       "      <th>3</th>\n",
       "      <td>Data Science</td>\n",
       "      <td>[skill      r     p thon     sap hana     tabl...</td>\n",
       "    </tr>\n",
       "    <tr>\n",
       "      <th>4</th>\n",
       "      <td>Data Science</td>\n",
       "      <td>[education detail     mca   ymcaust   faridaba...</td>\n",
       "    </tr>\n",
       "  </tbody>\n",
       "</table>\n",
       "</div>"
      ],
      "text/plain": [
       "       Category                                     cleaned_resume\n",
       "0  Data Science  [skill    programming language   p thon  panda...\n",
       "1  Data Science  [education detail    ma  2013 to ma  2017 b e ...\n",
       "2  Data Science  [area  of intere t deep learning  control s  t...\n",
       "3  Data Science  [skill      r     p thon     sap hana     tabl...\n",
       "4  Data Science  [education detail     mca   ymcaust   faridaba..."
      ]
     },
     "execution_count": 5,
     "metadata": {},
     "output_type": "execute_result"
    }
   ],
   "source": [
    "# pre processing resume data set\n",
    "resumes = pd.read_csv(r\"./UpdatedResumeDataSet.csv\")\n",
    "\n",
    "def remove_punc(corpus):\n",
    "    punc_free = \"\".join([i for i in corpus if i not in string.punctuation])\n",
    "    return punc_free\n",
    "\n",
    "def tokenization(corpus):\n",
    "    tokens = re.split('W+',corpus)\n",
    "    return tokens\n",
    "\n",
    "def remove_stopwords(corpus):\n",
    "    output = [i for i in corpus if i not in stopwords]\n",
    "    return output\n",
    "\n",
    "wordnet_lemmatizer = WordNetLemmatizer()\n",
    "\n",
    "def lemmization(corpus):\n",
    "    lemm = [wordnet_lemmatizer.lemmatize(word) for word in corpus]\n",
    "    return lemm\n",
    "\n",
    "def cleanResume(resumeText):\n",
    "    resumeText = re.sub('httpS+s*', ' ', resumeText)  # remove URLs\n",
    "    resumeText = re.sub('RT|cc', ' ', resumeText)  # remove RT and cc\n",
    "    resumeText = re.sub('#S+', '', resumeText)  # remove hashtags\n",
    "    resumeText = re.sub('@S+', '  ', resumeText)  # remove mentions\n",
    "    resumeText = re.sub('[%s]' % re.escape(\"\"\"!\"#$%&'()*+,-./:;<=>?@[]^_`{|}~\"\"\"), ' ', resumeText)  # remove punctuations\n",
    "    resumeText = re.sub(r'[^x00-x7f]',r' ', resumeText) \n",
    "    resumeText = re.sub('s+', ' ', resumeText)  # remove extra whitespace\n",
    "    return resumeText\n",
    "\n",
    "resumes['cleaned_resume'] = resumes.Resume.apply(lambda x: cleanResume(x))\n",
    "\n",
    "# del resumes[\"Category\"]\n",
    "del resumes[\"Resume\"]\n",
    "\n",
    "resumes['cleaned_resume'] = resumes['cleaned_resume'].apply(lambda x:remove_punc(x))\n",
    "resumes['cleaned_resume'] = resumes['cleaned_resume'].apply(lambda x:x.lower())\n",
    "resumes['cleaned_resume'] = resumes['cleaned_resume'].apply(lambda x:tokenization(x))\n",
    "resumes['cleaned_resume'] = resumes['cleaned_resume'].apply(lambda x:remove_stopwords(x))\n",
    "resumes['cleaned_resume'] = resumes['cleaned_resume'].apply(lambda x:lemmization(x))\n",
    "resumes.head()"
   ]
  },
  {
   "cell_type": "code",
   "execution_count": 6,
   "id": "4f284365",
   "metadata": {},
   "outputs": [
    {
     "data": {
      "text/plain": [
       "0      [skill    programming language   p thon  panda...\n",
       "1      [education detail    ma  2013 to ma  2017 b e ...\n",
       "2      [area  of intere t deep learning  control s  t...\n",
       "3      [skill      r     p thon     sap hana     tabl...\n",
       "4      [education detail     mca   ymcaust   faridaba...\n",
       "                             ...                        \n",
       "957    [computer skill       proficient in ms office ...\n",
       "958    [    willingne  to a ept the challenge       p...\n",
       "959    [personal skills     quick learner      eagern...\n",
       "960    [computer skills   software knowledge ms power...\n",
       "961    [skill set os window  xp 7 8 8 1 10 databa e m...\n",
       "Name: cleaned_resume, Length: 962, dtype: object"
      ]
     },
     "execution_count": 6,
     "metadata": {},
     "output_type": "execute_result"
    }
   ],
   "source": [
    "resumes['cleaned_resume']"
   ]
  },
  {
   "cell_type": "code",
   "execution_count": 55,
   "id": "cd54824b",
   "metadata": {
    "scrolled": true
   },
   "outputs": [
    {
     "data": {
      "image/png": "[encoded data removed]",
      "text/plain": [
       "<Figure size 1944x720 with 1 Axes>"
      ]
     },
     "metadata": {
      "needs_background": "light"
     },
     "output_type": "display_data"
    }
   ],
   "source": [
    "import matplotlib.pyplot as plt\n",
    "import seaborn as sns\n",
    "# Initialize the matplotlib figure\n",
    "f, ax = plt.subplots(figsize=(27, 10))\n",
    "\n",
    "#Dataset relating to recruiters\n",
    "count_resume= resumes.groupby('Category').count()\n",
    "rec_df = resumes.groupby('Category').count().sort_values(by='cleaned_resume', ascending=False).reset_index()[['Category', 'cleaned_resume']].copy()\n",
    "# print(rec_df)\n",
    "\n",
    "\n",
    "# Plot the total crashes\n",
    "sns.set_color_codes(\"bright\")\n",
    "sns.barplot(x=\"Category\", y=\"cleaned_resume\", data=rec_df.loc[0:15,:],\n",
    "            label=\"Total\", color=\"b\")\n",
    "\n",
    "plt.title('Top 15 jobs Applied By Job Category', fontsize=18);"
   ]
  },
  {
   "cell_type": "code",
   "execution_count": 54,
   "id": "73adaa8e",
   "metadata": {},
   "outputs": [
    {
     "name": "stdout",
     "output_type": "stream",
     "text": [
      "           Category  cleaned_resume\n",
      "Role_Type                          \n",
      "Business        186             186\n",
      "Other           228             228\n",
      "STEM            548             548\n"
     ]
    },
    {
     "data": {
      "image/png": "[encoded data removed]",
      "text/plain": [
       "<Figure size 576x576 with 1 Axes>"
      ]
     },
     "metadata": {
      "needs_background": "light"
     },
     "output_type": "display_data"
    }
   ],
   "source": [
    "# Function to return the type of role based on keywords in the title.\n",
    "def role_type(x):\n",
    "    if 'Advocate' in x:\n",
    "        return 'Business'\n",
    "    elif 'Business' in x:\n",
    "        return 'Business'\n",
    "    elif 'SAP' in x:\n",
    "        return 'Business'\n",
    "    elif 'HR' in x:\n",
    "        return 'Business'\n",
    "    elif 'PMO' in x:\n",
    "        return 'Business'\n",
    "    elif 'Sales' in x:\n",
    "        return 'Business'\n",
    "    elif 'Python' in x:\n",
    "        return 'STEM'\n",
    "    elif 'Java' in x:\n",
    "        return 'STEM'\n",
    "    elif 'Database' in x:\n",
    "        return 'STEM'\n",
    "    elif 'Web' in x:\n",
    "        return 'STEM'\n",
    "    elif 'Developer' in x:\n",
    "        return 'STEM'\n",
    "    elif 'Engineer' in x:\n",
    "        return 'STEM'\n",
    "    elif 'Testing' in x:\n",
    "        return 'STEM'\n",
    "    else:\n",
    "        return 'Other'\n",
    "    \n",
    "resumes['Role_Type'] = resumes['Category'].apply(role_type)\n",
    "print(resumes.groupby('Role_Type').count())\n",
    "job_df = resumes.groupby('Role_Type').count().reset_index()[['Role_Type', 'Category']]\n",
    "\n",
    "f, ax = plt.subplots(figsize=(8, 8))\n",
    "\n",
    "sns.barplot(x='Role_Type', y='Category', data=job_df)\n",
    "\n",
    "ax.set_title('Count Of Jobs By Role Type', fontsize=18)\n",
    "ax.set_xlabel('Role Type', fontsize=14)\n",
    "ax.set_ylabel('Count', fontsize=14);"
   ]
  },
  {
   "cell_type": "code",
   "execution_count": null,
   "id": "de8af09f",
   "metadata": {},
   "outputs": [],
   "source": []
  }
 ],
 "metadata": {
  "kernelspec": {
   "display_name": "Python 3 (ipykernel)",
   "language": "python",
   "name": "python3"
  },
  "language_info": {
   "codemirror_mode": {
    "name": "ipython",
    "version": 3
   },
   "file_extension": ".py",
   "mimetype": "text/x-python",
   "name": "python",
   "nbconvert_exporter": "python",
   "pygments_lexer": "ipython3",
   "version": "3.9.7"
  }
 },
 "nbformat": 4,
 "nbformat_minor": 5
}
